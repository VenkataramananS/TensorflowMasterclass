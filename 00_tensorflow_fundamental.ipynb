{
  "nbformat": 4,
  "nbformat_minor": 0,
  "metadata": {
    "colab": {
      "provenance": [],
      "authorship_tag": "ABX9TyMticKHtZZru5efM0kopbbC",
      "include_colab_link": true
    },
    "kernelspec": {
      "name": "python3",
      "display_name": "Python 3"
    },
    "language_info": {
      "name": "python"
    }
  },
  "cells": [
    {
      "cell_type": "markdown",
      "metadata": {
        "id": "view-in-github",
        "colab_type": "text"
      },
      "source": [
        "<a href=\"https://colab.research.google.com/github/VenkataramananS/TensorflowMasterclass/blob/main/00_tensorflow_fundamental.ipynb\" target=\"_parent\"><img src=\"https://colab.research.google.com/assets/colab-badge.svg\" alt=\"Open In Colab\"/></a>"
      ]
    },
    {
      "cell_type": "markdown",
      "source": [
        "most fundamental concepts of tensor using tensorflow.\n",
        "\n",
        "Topics covered:\n",
        "\n",
        "\n",
        "1.   Introduction to tensors\n",
        "2.   Getting more info from tensors\n",
        "3.   Manipulating tensors\n",
        "4.   Tensors and Numpy5. Using tf.dunction ( a way to speed up regular        python functions)\n",
        "6.   Using GPUs with tensorflow or (TPUs) \n",
        "7.   Exercises"
      ],
      "metadata": {
        "id": "1W8MAS-F9mix"
      }
    },
    {
      "cell_type": "markdown",
      "source": [
        "## Introduction to Tensors"
      ],
      "metadata": {
        "id": "PRbhx5gO95zZ"
      }
    },
    {
      "cell_type": "code",
      "source": [
        "# Import Tensorflow\n",
        "import tensorflow as tf\n",
        "print(tf.__version__)"
      ],
      "metadata": {
        "colab": {
          "base_uri": "https://localhost:8080/"
        },
        "id": "olhx33dWA0eH",
        "outputId": "be94ff5c-99b4-45cc-e224-69887268c0c5"
      },
      "execution_count": 3,
      "outputs": [
        {
          "output_type": "stream",
          "name": "stdout",
          "text": [
            "2.9.2\n"
          ]
        }
      ]
    },
    {
      "cell_type": "code",
      "source": [
        "# Create tensors with tf.constants()\n",
        "scalar = tf.constant(7)\n",
        "scalar"
      ],
      "metadata": {
        "colab": {
          "base_uri": "https://localhost:8080/"
        },
        "id": "lkcf_B03A4G5",
        "outputId": "5b5ebdd8-1443-425f-8239-882a392e1661"
      },
      "execution_count": 4,
      "outputs": [
        {
          "output_type": "execute_result",
          "data": {
            "text/plain": [
              "<tf.Tensor: shape=(), dtype=int32, numpy=7>"
            ]
          },
          "metadata": {},
          "execution_count": 4
        }
      ]
    },
    {
      "cell_type": "code",
      "source": [
        "# Check number of dimensions in Tensor (ndim stands number of dimensions)\n",
        "scalar.ndim"
      ],
      "metadata": {
        "colab": {
          "base_uri": "https://localhost:8080/"
        },
        "id": "SPO-inMiBY38",
        "outputId": "a44056f0-440c-4371-9092-920f0a720197"
      },
      "execution_count": 5,
      "outputs": [
        {
          "output_type": "execute_result",
          "data": {
            "text/plain": [
              "0"
            ]
          },
          "metadata": {},
          "execution_count": 5
        }
      ]
    },
    {
      "cell_type": "code",
      "source": [
        "# Create a vector\n",
        "vector = tf.constant([10,10])\n",
        "vector"
      ],
      "metadata": {
        "colab": {
          "base_uri": "https://localhost:8080/"
        },
        "id": "jVInsM0DCHMa",
        "outputId": "6b9db6b6-cd53-4632-9ba7-b80f0a0ce1ca"
      },
      "execution_count": 6,
      "outputs": [
        {
          "output_type": "execute_result",
          "data": {
            "text/plain": [
              "<tf.Tensor: shape=(2,), dtype=int32, numpy=array([10, 10], dtype=int32)>"
            ]
          },
          "metadata": {},
          "execution_count": 6
        }
      ]
    },
    {
      "cell_type": "code",
      "source": [
        "# Check the dimension of a vector\n",
        "vector.ndim"
      ],
      "metadata": {
        "colab": {
          "base_uri": "https://localhost:8080/"
        },
        "id": "ge4JpSxbCPgg",
        "outputId": "4c726512-40f7-4194-fc49-c5410add5a79"
      },
      "execution_count": 7,
      "outputs": [
        {
          "output_type": "execute_result",
          "data": {
            "text/plain": [
              "1"
            ]
          },
          "metadata": {},
          "execution_count": 7
        }
      ]
    },
    {
      "cell_type": "code",
      "source": [
        "# Create a matrix (more than 1 dimension)\n",
        "matrix = tf.constant([[10,7],[7,10]])\n",
        "matrix"
      ],
      "metadata": {
        "colab": {
          "base_uri": "https://localhost:8080/"
        },
        "id": "XeDJ8l6SCcdg",
        "outputId": "bd617c38-23fd-49a0-c865-739536b910d4"
      },
      "execution_count": 8,
      "outputs": [
        {
          "output_type": "execute_result",
          "data": {
            "text/plain": [
              "<tf.Tensor: shape=(2, 2), dtype=int32, numpy=\n",
              "array([[10,  7],\n",
              "       [ 7, 10]], dtype=int32)>"
            ]
          },
          "metadata": {},
          "execution_count": 8
        }
      ]
    },
    {
      "cell_type": "code",
      "source": [
        "# Check the dimension of a matrix\n",
        "matrix.ndim"
      ],
      "metadata": {
        "colab": {
          "base_uri": "https://localhost:8080/"
        },
        "id": "3SlW6LGmC_0C",
        "outputId": "9ea6c178-47bd-456a-a1f2-454f7488c587"
      },
      "execution_count": 9,
      "outputs": [
        {
          "output_type": "execute_result",
          "data": {
            "text/plain": [
              "2"
            ]
          },
          "metadata": {},
          "execution_count": 9
        }
      ]
    },
    {
      "cell_type": "code",
      "source": [
        "# Create a tensor\n",
        "tensor = tf.constant([[[1,2,3],\n",
        "                        [4,5,6]],\n",
        "                       [[7,8,9],\n",
        "                        [10,11,12]],\n",
        "                       [[13,14,15],\n",
        "                        [16,17,18]]\n",
        "                       ])\n",
        "tensor"
      ],
      "metadata": {
        "colab": {
          "base_uri": "https://localhost:8080/"
        },
        "id": "2A9nFcuODH2R",
        "outputId": "4f7b7613-fa46-411f-f624-4642a0bce037"
      },
      "execution_count": 10,
      "outputs": [
        {
          "output_type": "execute_result",
          "data": {
            "text/plain": [
              "<tf.Tensor: shape=(3, 2, 3), dtype=int32, numpy=\n",
              "array([[[ 1,  2,  3],\n",
              "        [ 4,  5,  6]],\n",
              "\n",
              "       [[ 7,  8,  9],\n",
              "        [10, 11, 12]],\n",
              "\n",
              "       [[13, 14, 15],\n",
              "        [16, 17, 18]]], dtype=int32)>"
            ]
          },
          "metadata": {},
          "execution_count": 10
        }
      ]
    },
    {
      "cell_type": "code",
      "source": [
        "# Check the dimension of a tensor\n",
        "tensor.ndim"
      ],
      "metadata": {
        "colab": {
          "base_uri": "https://localhost:8080/"
        },
        "id": "YZC7InFAEe36",
        "outputId": "850adf20-1ece-4021-bca7-526c279d9d55"
      },
      "execution_count": 11,
      "outputs": [
        {
          "output_type": "execute_result",
          "data": {
            "text/plain": [
              "3"
            ]
          },
          "metadata": {},
          "execution_count": 11
        }
      ]
    },
    {
      "cell_type": "markdown",
      "source": [
        "### Creating variables with tf.Variable"
      ],
      "metadata": {
        "id": "JJ9D39AdA9SY"
      }
    },
    {
      "cell_type": "code",
      "source": [
        "# Create same tensor with tf.Variable() as above\n",
        "variable_tensor = tf.Variable([10,7])\n",
        "constant_tensor = tf.constant([10,7])\n",
        "variable_tensor,constant_tensor"
      ],
      "metadata": {
        "id": "0r1b4Jh3Evr6",
        "colab": {
          "base_uri": "https://localhost:8080/"
        },
        "outputId": "5fbbf233-bc51-4273-b580-4c042a031c9e"
      },
      "execution_count": 12,
      "outputs": [
        {
          "output_type": "execute_result",
          "data": {
            "text/plain": [
              "(<tf.Variable 'Variable:0' shape=(2,) dtype=int32, numpy=array([10,  7], dtype=int32)>,\n",
              " <tf.Tensor: shape=(2,), dtype=int32, numpy=array([10,  7], dtype=int32)>)"
            ]
          },
          "metadata": {},
          "execution_count": 12
        }
      ]
    },
    {
      "cell_type": "code",
      "source": [
        "# Let's try to change one of the element in the variable tensor\n",
        "variable_tensor[0] = 7\n",
        "variable_tensor"
      ],
      "metadata": {
        "colab": {
          "base_uri": "https://localhost:8080/",
          "height": 200
        },
        "id": "69J5Mj5pBjst",
        "outputId": "76077de7-1f6b-461e-b248-49431dc0f318"
      },
      "execution_count": 14,
      "outputs": [
        {
          "output_type": "error",
          "ename": "TypeError",
          "evalue": "ignored",
          "traceback": [
            "\u001b[0;31m---------------------------------------------------------------------------\u001b[0m",
            "\u001b[0;31mTypeError\u001b[0m                                 Traceback (most recent call last)",
            "\u001b[0;32m<ipython-input-14-58bb30fc7714>\u001b[0m in \u001b[0;36m<module>\u001b[0;34m\u001b[0m\n\u001b[1;32m      1\u001b[0m \u001b[0;31m# Let's try to change one of the element in the variable tensor\u001b[0m\u001b[0;34m\u001b[0m\u001b[0;34m\u001b[0m\u001b[0;34m\u001b[0m\u001b[0m\n\u001b[0;32m----> 2\u001b[0;31m \u001b[0mvariable_tensor\u001b[0m\u001b[0;34m[\u001b[0m\u001b[0;36m0\u001b[0m\u001b[0;34m]\u001b[0m \u001b[0;34m=\u001b[0m \u001b[0;36m7\u001b[0m\u001b[0;34m\u001b[0m\u001b[0;34m\u001b[0m\u001b[0m\n\u001b[0m\u001b[1;32m      3\u001b[0m \u001b[0mvariable_tensor\u001b[0m\u001b[0;34m\u001b[0m\u001b[0;34m\u001b[0m\u001b[0m\n",
            "\u001b[0;31mTypeError\u001b[0m: 'ResourceVariable' object does not support item assignment"
          ]
        }
      ]
    },
    {
      "cell_type": "code",
      "source": [
        "# now replacing value using .assign() function\n",
        "variable_tensor[0].assign(7)\n",
        "variable_tensor"
      ],
      "metadata": {
        "colab": {
          "base_uri": "https://localhost:8080/"
        },
        "id": "KdSl-ztcB8K1",
        "outputId": "2effa28e-ce9d-49fe-ae36-d35b37b0ef50"
      },
      "execution_count": 15,
      "outputs": [
        {
          "output_type": "execute_result",
          "data": {
            "text/plain": [
              "<tf.Variable 'Variable:0' shape=(2,) dtype=int32, numpy=array([7, 7], dtype=int32)>"
            ]
          },
          "metadata": {},
          "execution_count": 15
        }
      ]
    },
    {
      "cell_type": "code",
      "source": [
        "# now trying the same in the constant tensor\n",
        "constant_tensor[0].assign(7)"
      ],
      "metadata": {
        "colab": {
          "base_uri": "https://localhost:8080/",
          "height": 304
        },
        "id": "SeKTxSD1CHAI",
        "outputId": "3c007ef0-3050-4d5d-f71c-4efb46a676de"
      },
      "execution_count": 16,
      "outputs": [
        {
          "output_type": "error",
          "ename": "AttributeError",
          "evalue": "ignored",
          "traceback": [
            "\u001b[0;31m---------------------------------------------------------------------------\u001b[0m",
            "\u001b[0;31mAttributeError\u001b[0m                            Traceback (most recent call last)",
            "\u001b[0;32m<ipython-input-16-f82f569b5d04>\u001b[0m in \u001b[0;36m<module>\u001b[0;34m\u001b[0m\n\u001b[1;32m      1\u001b[0m \u001b[0;31m# now trying the same in the constant tensor\u001b[0m\u001b[0;34m\u001b[0m\u001b[0;34m\u001b[0m\u001b[0;34m\u001b[0m\u001b[0m\n\u001b[0;32m----> 2\u001b[0;31m \u001b[0mconstant_tensor\u001b[0m\u001b[0;34m[\u001b[0m\u001b[0;36m0\u001b[0m\u001b[0;34m]\u001b[0m\u001b[0;34m.\u001b[0m\u001b[0massign\u001b[0m\u001b[0;34m(\u001b[0m\u001b[0;36m7\u001b[0m\u001b[0;34m)\u001b[0m\u001b[0;34m\u001b[0m\u001b[0;34m\u001b[0m\u001b[0m\n\u001b[0m",
            "\u001b[0;32m/usr/local/lib/python3.7/dist-packages/tensorflow/python/framework/ops.py\u001b[0m in \u001b[0;36m__getattr__\u001b[0;34m(self, name)\u001b[0m\n\u001b[1;32m    444\u001b[0m         \u001b[0mnp_config\u001b[0m\u001b[0;34m.\u001b[0m\u001b[0menable_numpy_behavior\u001b[0m\u001b[0;34m(\u001b[0m\u001b[0;34m)\u001b[0m\u001b[0;34m\u001b[0m\u001b[0;34m\u001b[0m\u001b[0m\n\u001b[1;32m    445\u001b[0m       \"\"\")\n\u001b[0;32m--> 446\u001b[0;31m     \u001b[0mself\u001b[0m\u001b[0;34m.\u001b[0m\u001b[0m__getattribute__\u001b[0m\u001b[0;34m(\u001b[0m\u001b[0mname\u001b[0m\u001b[0;34m)\u001b[0m\u001b[0;34m\u001b[0m\u001b[0;34m\u001b[0m\u001b[0m\n\u001b[0m\u001b[1;32m    447\u001b[0m \u001b[0;34m\u001b[0m\u001b[0m\n\u001b[1;32m    448\u001b[0m   \u001b[0;34m@\u001b[0m\u001b[0mstaticmethod\u001b[0m\u001b[0;34m\u001b[0m\u001b[0;34m\u001b[0m\u001b[0m\n",
            "\u001b[0;31mAttributeError\u001b[0m: 'tensorflow.python.framework.ops.EagerTensor' object has no attribute 'assign'"
          ]
        }
      ]
    },
    {
      "cell_type": "markdown",
      "source": [
        "### Creation of random tensors"
      ],
      "metadata": {
        "id": "N2zHIP_uDxV3"
      }
    },
    {
      "cell_type": "code",
      "source": [
        "# Create two tensors (but the same)\n",
        "r1 = tf.random.Generator.from_seed(10)\n",
        "r1 = r1.normal(shape=(3,2))\n",
        "r2 = tf.random.Generator.from_seed(10)\n",
        "r2 = r2.normal(shape=(3,2))\n",
        "\n",
        "# Are they same?\n",
        "r1,r2,r1==r2"
      ],
      "metadata": {
        "id": "FLosEA2DCQKo"
      },
      "execution_count": null,
      "outputs": []
    },
    {
      "cell_type": "markdown",
      "source": [
        "### Shuffle the order of elements in tensor"
      ],
      "metadata": {
        "id": "P9hTAfOhEerO"
      }
    },
    {
      "cell_type": "code",
      "source": [
        "# Shuffle a tensor\n",
        "unshuffled = tf.constant([[[10,7,6],[2,5,3],[1,4,9]],[[20,17,16],[12,15,13],[11,14,19]],[[30,27,26],[22,25,23],[21,24,29]]])\n",
        "unshuffled.ndim,unshuffled"
      ],
      "metadata": {
        "id": "2ZRVMKY8EO8B"
      },
      "execution_count": null,
      "outputs": []
    },
    {
      "cell_type": "code",
      "source": [
        "tf.random.shuffle(unshuffled)"
      ],
      "metadata": {
        "colab": {
          "base_uri": "https://localhost:8080/",
          "height": 165
        },
        "id": "bMPnFrpJFpXI",
        "outputId": "0a8f3471-00a0-4fc7-a243-b06aefc36c93"
      },
      "execution_count": 17,
      "outputs": [
        {
          "output_type": "error",
          "ename": "NameError",
          "evalue": "ignored",
          "traceback": [
            "\u001b[0;31m---------------------------------------------------------------------------\u001b[0m",
            "\u001b[0;31mNameError\u001b[0m                                 Traceback (most recent call last)",
            "\u001b[0;32m<ipython-input-17-fcbca1816c01>\u001b[0m in \u001b[0;36m<module>\u001b[0;34m\u001b[0m\n\u001b[0;32m----> 1\u001b[0;31m \u001b[0mtf\u001b[0m\u001b[0;34m.\u001b[0m\u001b[0mrandom\u001b[0m\u001b[0;34m.\u001b[0m\u001b[0mshuffle\u001b[0m\u001b[0;34m(\u001b[0m\u001b[0munshuffled\u001b[0m\u001b[0;34m)\u001b[0m\u001b[0;34m\u001b[0m\u001b[0;34m\u001b[0m\u001b[0m\n\u001b[0m",
            "\u001b[0;31mNameError\u001b[0m: name 'unshuffled' is not defined"
          ]
        }
      ]
    },
    {
      "cell_type": "markdown",
      "source": [
        "### Home Work Exercise\n",
        "read -> https://www.tensorflow.org/api_docs/python/tf/random/set_seed\n",
        "\n",
        "Create 5 random tensors and shuffle them"
      ],
      "metadata": {
        "id": "BZgCdavkIngh"
      }
    },
    {
      "cell_type": "code",
      "source": [
        "rv1 = tf.constant([[1,7],[2,8]])\n",
        "print(rv1.ndim)\n",
        "print(\"Same Seed \",tf.random.shuffle(rv1,seed = 9))\n",
        "print(\"Same Seed \",tf.random.shuffle(rv1,seed = 9))\n",
        "print(\"Different Seed \",tf.random.shuffle(rv1,seed = 6))"
      ],
      "metadata": {
        "colab": {
          "base_uri": "https://localhost:8080/"
        },
        "id": "rP6SCJeuFLBQ",
        "outputId": "cc1b00d2-b13c-43d0-a8cc-7daa919d34cf"
      },
      "execution_count": 18,
      "outputs": [
        {
          "output_type": "stream",
          "name": "stdout",
          "text": [
            "2\n",
            "Same Seed  tf.Tensor(\n",
            "[[2 8]\n",
            " [1 7]], shape=(2, 2), dtype=int32)\n",
            "Same Seed  tf.Tensor(\n",
            "[[2 8]\n",
            " [1 7]], shape=(2, 2), dtype=int32)\n",
            "Different Seed  tf.Tensor(\n",
            "[[1 7]\n",
            " [2 8]], shape=(2, 2), dtype=int32)\n"
          ]
        }
      ]
    },
    {
      "cell_type": "code",
      "source": [
        "rv2 = tf.constant([[1,7],[2,8],[3,9]])\n",
        "print(rv2.ndim)\n",
        "print(\"Same Seed \",tf.random.shuffle(rv2,seed = 9))\n",
        "print(\"Same Seed \",tf.random.shuffle(rv2,seed = 9))\n",
        "print(\"Different Seed \",tf.random.shuffle(rv2,seed = 6))"
      ],
      "metadata": {
        "colab": {
          "base_uri": "https://localhost:8080/"
        },
        "id": "_ZG9pfPvFTkY",
        "outputId": "2c67d19d-be37-4bf6-998d-fc1335f4de2d"
      },
      "execution_count": 19,
      "outputs": [
        {
          "output_type": "stream",
          "name": "stdout",
          "text": [
            "2\n",
            "Same Seed  tf.Tensor(\n",
            "[[2 8]\n",
            " [1 7]\n",
            " [3 9]], shape=(3, 2), dtype=int32)\n",
            "Same Seed  tf.Tensor(\n",
            "[[3 9]\n",
            " [2 8]\n",
            " [1 7]], shape=(3, 2), dtype=int32)\n",
            "Different Seed  tf.Tensor(\n",
            "[[3 9]\n",
            " [2 8]\n",
            " [1 7]], shape=(3, 2), dtype=int32)\n"
          ]
        }
      ]
    },
    {
      "cell_type": "code",
      "source": [
        "rv3 = tf.constant([[[1,7]],[[2,8]],[[3,9]]])\n",
        "print(rv3.ndim)\n",
        "print(\"Same Seed \",tf.random.shuffle(rv3,seed = 9))\n",
        "print(\"Same Seed \",tf.random.shuffle(rv3,seed = 9))\n",
        "print(\"Different Seed \",tf.random.shuffle(rv3,seed = 6))"
      ],
      "metadata": {
        "colab": {
          "base_uri": "https://localhost:8080/"
        },
        "id": "sUqHd21uJBi5",
        "outputId": "17eb1e8a-48f8-4977-bff9-81b92adfe70e"
      },
      "execution_count": 20,
      "outputs": [
        {
          "output_type": "stream",
          "name": "stdout",
          "text": [
            "3\n",
            "Same Seed  tf.Tensor(\n",
            "[[[1 7]]\n",
            "\n",
            " [[2 8]]\n",
            "\n",
            " [[3 9]]], shape=(3, 1, 2), dtype=int32)\n",
            "Same Seed  tf.Tensor(\n",
            "[[[3 9]]\n",
            "\n",
            " [[2 8]]\n",
            "\n",
            " [[1 7]]], shape=(3, 1, 2), dtype=int32)\n",
            "Different Seed  tf.Tensor(\n",
            "[[[2 8]]\n",
            "\n",
            " [[1 7]]\n",
            "\n",
            " [[3 9]]], shape=(3, 1, 2), dtype=int32)\n"
          ]
        }
      ]
    },
    {
      "cell_type": "code",
      "source": [
        "rv4 = tf.constant([[[1,7],[11,17]],[[2,8],[12,18]],[[3,9],[13,19]]])\n",
        "print(rv4.ndim)\n",
        "print(\"Same Seed \",tf.random.shuffle(rv4,seed = 9))\n",
        "print(\"Same Seed \",tf.random.shuffle(rv4,seed = 9))\n",
        "print(\"Different Seed \",tf.random.shuffle(rv4,seed = 6))"
      ],
      "metadata": {
        "colab": {
          "base_uri": "https://localhost:8080/"
        },
        "id": "TC2lFu_aJqgZ",
        "outputId": "a5ad4931-81e4-4f33-c0d3-76a8176fae26"
      },
      "execution_count": 21,
      "outputs": [
        {
          "output_type": "stream",
          "name": "stdout",
          "text": [
            "3\n",
            "Same Seed  tf.Tensor(\n",
            "[[[ 1  7]\n",
            "  [11 17]]\n",
            "\n",
            " [[ 3  9]\n",
            "  [13 19]]\n",
            "\n",
            " [[ 2  8]\n",
            "  [12 18]]], shape=(3, 2, 2), dtype=int32)\n",
            "Same Seed  tf.Tensor(\n",
            "[[[ 1  7]\n",
            "  [11 17]]\n",
            "\n",
            " [[ 2  8]\n",
            "  [12 18]]\n",
            "\n",
            " [[ 3  9]\n",
            "  [13 19]]], shape=(3, 2, 2), dtype=int32)\n",
            "Different Seed  tf.Tensor(\n",
            "[[[ 1  7]\n",
            "  [11 17]]\n",
            "\n",
            " [[ 2  8]\n",
            "  [12 18]]\n",
            "\n",
            " [[ 3  9]\n",
            "  [13 19]]], shape=(3, 2, 2), dtype=int32)\n"
          ]
        }
      ]
    },
    {
      "cell_type": "code",
      "source": [
        "rv5 = tf.constant([[[1,7,-1],[11,17,-11]],[[2,8,-2],[12,18,-12]],[[3,9,-3],[13,19,-13]]])\n",
        "print(rv5.ndim)\n",
        "print(\"Same Seed \",tf.random.shuffle(rv5,seed = 9))\n",
        "print(\"Same Seed \",tf.random.shuffle(rv5,seed = 9))\n",
        "print(\"Different Seed \",tf.random.shuffle(rv5,seed = 6))"
      ],
      "metadata": {
        "colab": {
          "base_uri": "https://localhost:8080/"
        },
        "id": "Nkfk3Bl7Kf-I",
        "outputId": "ddef3ed3-ca8b-4f18-fbf3-50cdf9de3089"
      },
      "execution_count": 22,
      "outputs": [
        {
          "output_type": "stream",
          "name": "stdout",
          "text": [
            "3\n",
            "Same Seed  tf.Tensor(\n",
            "[[[  3   9  -3]\n",
            "  [ 13  19 -13]]\n",
            "\n",
            " [[  2   8  -2]\n",
            "  [ 12  18 -12]]\n",
            "\n",
            " [[  1   7  -1]\n",
            "  [ 11  17 -11]]], shape=(3, 2, 3), dtype=int32)\n",
            "Same Seed  tf.Tensor(\n",
            "[[[  1   7  -1]\n",
            "  [ 11  17 -11]]\n",
            "\n",
            " [[  2   8  -2]\n",
            "  [ 12  18 -12]]\n",
            "\n",
            " [[  3   9  -3]\n",
            "  [ 13  19 -13]]], shape=(3, 2, 3), dtype=int32)\n",
            "Different Seed  tf.Tensor(\n",
            "[[[  3   9  -3]\n",
            "  [ 13  19 -13]]\n",
            "\n",
            " [[  1   7  -1]\n",
            "  [ 11  17 -11]]\n",
            "\n",
            " [[  2   8  -2]\n",
            "  [ 12  18 -12]]], shape=(3, 2, 3), dtype=int32)\n"
          ]
        }
      ]
    },
    {
      "cell_type": "markdown",
      "source": [
        "### Other ways to make tensors"
      ],
      "metadata": {
        "id": "vFZXv--AMDqj"
      }
    },
    {
      "cell_type": "code",
      "source": [
        "# Create a tensor of all ones\n",
        "tf.ones([3,4], tf.int32)"
      ],
      "metadata": {
        "colab": {
          "base_uri": "https://localhost:8080/"
        },
        "id": "5Onuh3QmKwgx",
        "outputId": "a7fa6b05-5e16-4ae4-9176-62bdae6e2959"
      },
      "execution_count": 23,
      "outputs": [
        {
          "output_type": "execute_result",
          "data": {
            "text/plain": [
              "<tf.Tensor: shape=(3, 4), dtype=int32, numpy=\n",
              "array([[1, 1, 1, 1],\n",
              "       [1, 1, 1, 1],\n",
              "       [1, 1, 1, 1]], dtype=int32)>"
            ]
          },
          "metadata": {},
          "execution_count": 23
        }
      ]
    },
    {
      "cell_type": "code",
      "source": [
        "# Create a tensor of all zeros\n",
        "tf.zeros(shape=(3,4))"
      ],
      "metadata": {
        "colab": {
          "base_uri": "https://localhost:8080/"
        },
        "id": "01hPj8vcMBiJ",
        "outputId": "c9026793-46d9-48a4-cfaf-52dbd83d43c9"
      },
      "execution_count": 24,
      "outputs": [
        {
          "output_type": "execute_result",
          "data": {
            "text/plain": [
              "<tf.Tensor: shape=(3, 4), dtype=float32, numpy=\n",
              "array([[0., 0., 0., 0.],\n",
              "       [0., 0., 0., 0.],\n",
              "       [0., 0., 0., 0.]], dtype=float32)>"
            ]
          },
          "metadata": {},
          "execution_count": 24
        }
      ]
    },
    {
      "cell_type": "markdown",
      "source": [
        "# Turning numpy arrays into tensors\n",
        "\n",
        "The main difference between Numpy and a tensor is that Tensor uses GPU to run whereas numpy uses the CPU"
      ],
      "metadata": {
        "id": "l6DGYRApMfDL"
      }
    },
    {
      "cell_type": "code",
      "source": [
        "import numpy as np"
      ],
      "metadata": {
        "id": "TXEHmcFFMUzK"
      },
      "execution_count": 25,
      "outputs": []
    },
    {
      "cell_type": "code",
      "source": [
        "numpy_A = np.arange(1,25,dtype=np.int32) # Create numpy array between 1 and 25\n",
        "numpy_A"
      ],
      "metadata": {
        "colab": {
          "base_uri": "https://localhost:8080/"
        },
        "id": "cJHPRJXiMrvy",
        "outputId": "9188e5df-1b44-42cd-fb99-c09461bcbe20"
      },
      "execution_count": 26,
      "outputs": [
        {
          "output_type": "execute_result",
          "data": {
            "text/plain": [
              "array([ 1,  2,  3,  4,  5,  6,  7,  8,  9, 10, 11, 12, 13, 14, 15, 16, 17,\n",
              "       18, 19, 20, 21, 22, 23, 24], dtype=int32)"
            ]
          },
          "metadata": {},
          "execution_count": 26
        }
      ]
    },
    {
      "cell_type": "code",
      "source": [
        "a = tf.constant(numpy_A,shape = (2,3,4)) # cumulative multiplication value of shape should match the total numbers of the numpy array i.e 2*3*4 => 24 == 24(numpy array shape)\n",
        "a"
      ],
      "metadata": {
        "colab": {
          "base_uri": "https://localhost:8080/"
        },
        "id": "yGTXCXvUM2dr",
        "outputId": "a52460e9-e3ca-4444-ea45-daa1c8e03770"
      },
      "execution_count": 27,
      "outputs": [
        {
          "output_type": "execute_result",
          "data": {
            "text/plain": [
              "<tf.Tensor: shape=(2, 3, 4), dtype=int32, numpy=\n",
              "array([[[ 1,  2,  3,  4],\n",
              "        [ 5,  6,  7,  8],\n",
              "        [ 9, 10, 11, 12]],\n",
              "\n",
              "       [[13, 14, 15, 16],\n",
              "        [17, 18, 19, 20],\n",
              "        [21, 22, 23, 24]]], dtype=int32)>"
            ]
          },
          "metadata": {},
          "execution_count": 27
        }
      ]
    },
    {
      "cell_type": "markdown",
      "source": [
        "### Getting more information from the tensors\n",
        "\n",
        "When dealing with Tensors\n",
        "\n",
        "\n",
        "1.   Shape\n",
        "2.   Rank\n",
        "3.   Axis or Dimension\n",
        "4.   Size\n",
        "\n"
      ],
      "metadata": {
        "id": "y9AaIbSaOFQK"
      }
    },
    {
      "cell_type": "code",
      "source": [
        "# Create a rank 4 tensor (4 dimension)\n",
        "\n",
        "rnk_4_tensor = tf.zeros(shape=[2,3,4,5])\n",
        "rnk_4_tensor"
      ],
      "metadata": {
        "colab": {
          "base_uri": "https://localhost:8080/"
        },
        "id": "yZsWKwyaNAp0",
        "outputId": "8fb388c7-102a-428f-967d-b11c17982a27"
      },
      "execution_count": 28,
      "outputs": [
        {
          "output_type": "execute_result",
          "data": {
            "text/plain": [
              "<tf.Tensor: shape=(2, 3, 4, 5), dtype=float32, numpy=\n",
              "array([[[[0., 0., 0., 0., 0.],\n",
              "         [0., 0., 0., 0., 0.],\n",
              "         [0., 0., 0., 0., 0.],\n",
              "         [0., 0., 0., 0., 0.]],\n",
              "\n",
              "        [[0., 0., 0., 0., 0.],\n",
              "         [0., 0., 0., 0., 0.],\n",
              "         [0., 0., 0., 0., 0.],\n",
              "         [0., 0., 0., 0., 0.]],\n",
              "\n",
              "        [[0., 0., 0., 0., 0.],\n",
              "         [0., 0., 0., 0., 0.],\n",
              "         [0., 0., 0., 0., 0.],\n",
              "         [0., 0., 0., 0., 0.]]],\n",
              "\n",
              "\n",
              "       [[[0., 0., 0., 0., 0.],\n",
              "         [0., 0., 0., 0., 0.],\n",
              "         [0., 0., 0., 0., 0.],\n",
              "         [0., 0., 0., 0., 0.]],\n",
              "\n",
              "        [[0., 0., 0., 0., 0.],\n",
              "         [0., 0., 0., 0., 0.],\n",
              "         [0., 0., 0., 0., 0.],\n",
              "         [0., 0., 0., 0., 0.]],\n",
              "\n",
              "        [[0., 0., 0., 0., 0.],\n",
              "         [0., 0., 0., 0., 0.],\n",
              "         [0., 0., 0., 0., 0.],\n",
              "         [0., 0., 0., 0., 0.]]]], dtype=float32)>"
            ]
          },
          "metadata": {},
          "execution_count": 28
        }
      ]
    },
    {
      "cell_type": "code",
      "source": [
        "print(\"Shape --> \",rnk_4_tensor.shape,'\\nDimension --> ',rnk_4_tensor.ndim,'\\nTotal number of elements --> ',tf.size(rnk_4_tensor).numpy(),\"\\nDatatype --> \",rnk_4_tensor.dtype)"
      ],
      "metadata": {
        "colab": {
          "base_uri": "https://localhost:8080/"
        },
        "id": "-nnnNo-6QQLT",
        "outputId": "3877a973-6ad6-46fc-b5ac-c5044bd09976"
      },
      "execution_count": 29,
      "outputs": [
        {
          "output_type": "stream",
          "name": "stdout",
          "text": [
            "Shape -->  (2, 3, 4, 5) \n",
            "Dimension -->  4 \n",
            "Total number of elements -->  120 \n",
            "Datatype -->  <dtype: 'float32'>\n"
          ]
        }
      ]
    },
    {
      "cell_type": "markdown",
      "source": [
        "### Indexing Tensors\n",
        "Tensors can also be indexed similar to python lists"
      ],
      "metadata": {
        "id": "eYJpkw4KSmxn"
      }
    },
    {
      "cell_type": "code",
      "source": [
        "# Get to first to elements in each dimension\n",
        "rnk_4_tensor[:2,:2,:2,:2]"
      ],
      "metadata": {
        "colab": {
          "base_uri": "https://localhost:8080/"
        },
        "id": "3Pb-UvQ8RgR7",
        "outputId": "79174a20-1aab-458d-8ae1-6df78f69da10"
      },
      "execution_count": 30,
      "outputs": [
        {
          "output_type": "execute_result",
          "data": {
            "text/plain": [
              "<tf.Tensor: shape=(2, 2, 2, 2), dtype=float32, numpy=\n",
              "array([[[[0., 0.],\n",
              "         [0., 0.]],\n",
              "\n",
              "        [[0., 0.],\n",
              "         [0., 0.]]],\n",
              "\n",
              "\n",
              "       [[[0., 0.],\n",
              "         [0., 0.]],\n",
              "\n",
              "        [[0., 0.],\n",
              "         [0., 0.]]]], dtype=float32)>"
            ]
          },
          "metadata": {},
          "execution_count": 30
        }
      ]
    },
    {
      "cell_type": "markdown",
      "source": [
        "## Changing or adding an extra dimension to a sensor"
      ],
      "metadata": {
        "id": "i0LbKtHlVCcS"
      }
    },
    {
      "cell_type": "code",
      "source": [
        "# Create a 2-dim tensor\n",
        "rank_2_numpy = np.zeros(shape=(2,2))\n",
        "rank_2_numpy\n",
        "rank_2_tensor = tf.constant(rank_2_numpy)\n",
        "rank_2_tensor"
      ],
      "metadata": {
        "colab": {
          "base_uri": "https://localhost:8080/"
        },
        "id": "T05fEkGBS0p0",
        "outputId": "1112bfef-5fc6-4b0a-8087-122ee3dabbda"
      },
      "execution_count": 31,
      "outputs": [
        {
          "output_type": "execute_result",
          "data": {
            "text/plain": [
              "<tf.Tensor: shape=(2, 2), dtype=float64, numpy=\n",
              "array([[0., 0.],\n",
              "       [0., 0.]])>"
            ]
          },
          "metadata": {},
          "execution_count": 31
        }
      ]
    },
    {
      "cell_type": "code",
      "source": [
        "# Adding an extra dimension\n",
        "modified_tensor = rank_2_tensor[...,tf.newaxis] # ... represents every axis before last one, it is a replacement of : model\n",
        "modified_tensor"
      ],
      "metadata": {
        "colab": {
          "base_uri": "https://localhost:8080/"
        },
        "id": "gxDH4_pgVZNc",
        "outputId": "e4a67f78-229c-44da-c691-07c5329de153"
      },
      "execution_count": 32,
      "outputs": [
        {
          "output_type": "execute_result",
          "data": {
            "text/plain": [
              "<tf.Tensor: shape=(2, 2, 1), dtype=float64, numpy=\n",
              "array([[[0.],\n",
              "        [0.]],\n",
              "\n",
              "       [[0.],\n",
              "        [0.]]])>"
            ]
          },
          "metadata": {},
          "execution_count": 32
        }
      ]
    },
    {
      "cell_type": "code",
      "source": [
        "# Alternative to tf.newaxis\n",
        "tf.expand_dims(rank_2_tensor,axis=-1)"
      ],
      "metadata": {
        "colab": {
          "base_uri": "https://localhost:8080/"
        },
        "id": "7fA_5ltEWJ2F",
        "outputId": "8ac4ece2-85ba-4027-e287-8a491779635f"
      },
      "execution_count": 33,
      "outputs": [
        {
          "output_type": "execute_result",
          "data": {
            "text/plain": [
              "<tf.Tensor: shape=(2, 2, 1), dtype=float64, numpy=\n",
              "array([[[0.],\n",
              "        [0.]],\n",
              "\n",
              "       [[0.],\n",
              "        [0.]]])>"
            ]
          },
          "metadata": {},
          "execution_count": 33
        }
      ]
    },
    {
      "cell_type": "code",
      "source": [
        "# Alternative to tf.newaxis\n",
        "tf.expand_dims(rank_2_tensor,axis=0)"
      ],
      "metadata": {
        "colab": {
          "base_uri": "https://localhost:8080/"
        },
        "id": "rTWT4oRXWx-E",
        "outputId": "a45ffbf9-2f32-47fd-af9a-a2f498130ad0"
      },
      "execution_count": 34,
      "outputs": [
        {
          "output_type": "execute_result",
          "data": {
            "text/plain": [
              "<tf.Tensor: shape=(1, 2, 2), dtype=float64, numpy=\n",
              "array([[[0., 0.],\n",
              "        [0., 0.]]])>"
            ]
          },
          "metadata": {},
          "execution_count": 34
        }
      ]
    },
    {
      "cell_type": "code",
      "source": [
        "# Alternative to tf.newaxis\n",
        "tf.expand_dims(rank_2_tensor,axis=1)"
      ],
      "metadata": {
        "colab": {
          "base_uri": "https://localhost:8080/"
        },
        "id": "Xpyw_fctW6yF",
        "outputId": "23d63a97-be37-4aaf-ff9d-693808ec1e0c"
      },
      "execution_count": 35,
      "outputs": [
        {
          "output_type": "execute_result",
          "data": {
            "text/plain": [
              "<tf.Tensor: shape=(2, 1, 2), dtype=float64, numpy=\n",
              "array([[[0., 0.]],\n",
              "\n",
              "       [[0., 0.]]])>"
            ]
          },
          "metadata": {},
          "execution_count": 35
        }
      ]
    },
    {
      "cell_type": "markdown",
      "source": [
        "### Manipulation of Tensors ( Tensor Operations)\n",
        "** Basic Operation **\n",
        "\n",
        "=,-,*,/"
      ],
      "metadata": {
        "id": "NzIvWnvzXKAl"
      }
    },
    {
      "cell_type": "code",
      "source": [
        "tensor = tf.constant([[10,7],[3,4]])\n",
        "print(\"Add \",tensor + 10)\n",
        "print(\"Sub \",tensor - 10)\n",
        "print(\"Mul \",tensor * 10)\n",
        "print(\"Div \",tensor / 10)\n",
        "print(\"Non float div \",tensor // 10)"
      ],
      "metadata": {
        "colab": {
          "base_uri": "https://localhost:8080/"
        },
        "id": "fOIsXjcmXBzM",
        "outputId": "09bea0e4-4dfb-40b7-88ad-8591e1208087"
      },
      "execution_count": 36,
      "outputs": [
        {
          "output_type": "stream",
          "name": "stdout",
          "text": [
            "Add  tf.Tensor(\n",
            "[[20 17]\n",
            " [13 14]], shape=(2, 2), dtype=int32)\n",
            "Sub  tf.Tensor(\n",
            "[[ 0 -3]\n",
            " [-7 -6]], shape=(2, 2), dtype=int32)\n",
            "Mul  tf.Tensor(\n",
            "[[100  70]\n",
            " [ 30  40]], shape=(2, 2), dtype=int32)\n",
            "Div  tf.Tensor(\n",
            "[[1.  0.7]\n",
            " [0.3 0.4]], shape=(2, 2), dtype=float64)\n",
            "Non float div  tf.Tensor(\n",
            "[[1 0]\n",
            " [0 0]], shape=(2, 2), dtype=int32)\n"
          ]
        }
      ]
    },
    {
      "cell_type": "code",
      "source": [
        "# We can use Tensorflow built-in function\n",
        "tf.multiply(tensor,10)"
      ],
      "metadata": {
        "colab": {
          "base_uri": "https://localhost:8080/"
        },
        "id": "7YTT4xVDXq79",
        "outputId": "64f39a08-258d-4de3-d363-c03c646c1874"
      },
      "execution_count": 37,
      "outputs": [
        {
          "output_type": "execute_result",
          "data": {
            "text/plain": [
              "<tf.Tensor: shape=(2, 2), dtype=int32, numpy=\n",
              "array([[100,  70],\n",
              "       [ 30,  40]], dtype=int32)>"
            ]
          },
          "metadata": {},
          "execution_count": 37
        }
      ]
    },
    {
      "cell_type": "markdown",
      "source": [
        "## Matrix Multiplication"
      ],
      "metadata": {
        "id": "WMTpW2uZOXjE"
      }
    },
    {
      "cell_type": "code",
      "source": [
        "mat1 = tf.constant([[[1,2,3],[4,5,6],[7,8,9]]])\n",
        "mat2 = tf.constant([[[1,2,3],[4,5,6],[7,8,9]]])\n",
        "\n",
        "mat_mul = tf.linalg.matmul(mat1,mat2)\n",
        "mat_mul,mat_mul.shape"
      ],
      "metadata": {
        "id": "QiEaS8xOYHy1",
        "colab": {
          "base_uri": "https://localhost:8080/"
        },
        "outputId": "58ef49d7-eb27-4eac-d1c3-97c1cadd29ca"
      },
      "execution_count": 51,
      "outputs": [
        {
          "output_type": "execute_result",
          "data": {
            "text/plain": [
              "(<tf.Tensor: shape=(1, 3, 3), dtype=int32, numpy=\n",
              " array([[[ 30,  36,  42],\n",
              "         [ 66,  81,  96],\n",
              "         [102, 126, 150]]], dtype=int32)>, TensorShape([1, 3, 3]))"
            ]
          },
          "metadata": {},
          "execution_count": 51
        }
      ]
    },
    {
      "cell_type": "code",
      "source": [
        "mat3 = tf.constant([[[1,2,3],[4,5,6],[7,8,9]]])\n",
        "print(mat3.shape)\n",
        "print(tf.reshape(mat3,shape=(3,1,3))) # in tensor reshape the total number of elements after reshape should remain same as that of the original"
      ],
      "metadata": {
        "colab": {
          "base_uri": "https://localhost:8080/"
        },
        "id": "U30-j6THP5h1",
        "outputId": "102763ca-a598-48a5-c69f-ab24d2ee3c5e"
      },
      "execution_count": 54,
      "outputs": [
        {
          "output_type": "stream",
          "name": "stdout",
          "text": [
            "(1, 3, 3)\n",
            "tf.Tensor(\n",
            "[[[1 2 3]]\n",
            "\n",
            " [[4 5 6]]\n",
            "\n",
            " [[7 8 9]]], shape=(3, 1, 3), dtype=int32)\n"
          ]
        }
      ]
    },
    {
      "cell_type": "markdown",
      "source": [
        "# ** The dot product **\n",
        "Matrix multiplication can be performed using\n",
        "\n",
        "\n",
        "1.   tf.matmul()\n",
        "2.   tf.tensordot()\n",
        "\n"
      ],
      "metadata": {
        "id": "AwRBgZVlTuXW"
      }
    },
    {
      "cell_type": "code",
      "source": [
        "X = tf.constant([[1,2],[3,4],[5,6]])\n",
        "Y = tf.constant([[7,8],[9,10],[11,12]])\n"
      ],
      "metadata": {
        "colab": {
          "base_uri": "https://localhost:8080/"
        },
        "id": "pOdkfNq6RQZd",
        "outputId": "834e8348-7157-4d91-e0f1-e3af1cabedc1"
      },
      "execution_count": 63,
      "outputs": [
        {
          "output_type": "execute_result",
          "data": {
            "text/plain": [
              "<tf.Tensor: shape=(2, 2), dtype=int32, numpy=\n",
              "array([[ 89,  98],\n",
              "       [116, 128]], dtype=int32)>"
            ]
          },
          "metadata": {},
          "execution_count": 63
        }
      ]
    },
    {
      "cell_type": "code",
      "source": [
        "\n",
        "# Matrix multiplication between X and Y with Y transpose\n",
        "tf.tensordot(tf.transpose(X),Y,axes=1)"
      ],
      "metadata": {
        "id": "I7Mb9SNWWPiH"
      },
      "execution_count": null,
      "outputs": []
    },
    {
      "cell_type": "code",
      "source": [
        "# Matrix multiplication between X and Y with Y reshaped\n",
        "tf.tensordot(X,tf.reshape(Y,shape=(2,3)),axes=1)"
      ],
      "metadata": {
        "colab": {
          "base_uri": "https://localhost:8080/"
        },
        "id": "4VsoVnzHUdLG",
        "outputId": "d3d2d5d5-ca58-4f59-af5b-c9bf02cd28aa"
      },
      "execution_count": 60,
      "outputs": [
        {
          "output_type": "execute_result",
          "data": {
            "text/plain": [
              "<tf.Tensor: shape=(3, 3), dtype=int32, numpy=\n",
              "array([[ 27,  30,  33],\n",
              "       [ 61,  68,  75],\n",
              "       [ 95, 106, 117]], dtype=int32)>"
            ]
          },
          "metadata": {},
          "execution_count": 60
        }
      ]
    },
    {
      "cell_type": "code",
      "source": [
        "# Matrix multiplication between X and Y with Y transpose\n",
        "tf.tensordot(X,tf.transpose(Y),axes=1)"
      ],
      "metadata": {
        "colab": {
          "base_uri": "https://localhost:8080/"
        },
        "id": "f8R9Ov1RVEGm",
        "outputId": "1514464c-fc4d-4794-d3ea-762e8a090693"
      },
      "execution_count": 61,
      "outputs": [
        {
          "output_type": "execute_result",
          "data": {
            "text/plain": [
              "<tf.Tensor: shape=(3, 3), dtype=int32, numpy=\n",
              "array([[ 23,  29,  35],\n",
              "       [ 53,  67,  81],\n",
              "       [ 83, 105, 127]], dtype=int32)>"
            ]
          },
          "metadata": {},
          "execution_count": 61
        }
      ]
    },
    {
      "cell_type": "code",
      "source": [
        "# Check value of Y , reshape Y and transpose Y\n",
        "print(\"Normal Y: \",Y)\n",
        "print(\"Reshape Y: \",tf.reshape(Y,shape=(2,3)))\n",
        "print(\"Transpose Y: \",tf.transpose(Y))"
      ],
      "metadata": {
        "colab": {
          "base_uri": "https://localhost:8080/"
        },
        "id": "66ddgOUmVZDW",
        "outputId": "055f8588-10ff-4399-f802-3ec5381811b0"
      },
      "execution_count": 64,
      "outputs": [
        {
          "output_type": "stream",
          "name": "stdout",
          "text": [
            "Normal Y:  tf.Tensor(\n",
            "[[ 7  8]\n",
            " [ 9 10]\n",
            " [11 12]], shape=(3, 2), dtype=int32)\n",
            "Reshape Y:  tf.Tensor(\n",
            "[[ 7  8  9]\n",
            " [10 11 12]], shape=(2, 3), dtype=int32)\n",
            "Transpose Y:  tf.Tensor(\n",
            "[[ 7  9 11]\n",
            " [ 8 10 12]], shape=(2, 3), dtype=int32)\n"
          ]
        }
      ]
    },
    {
      "cell_type": "markdown",
      "source": [
        "### Changing Datatype of the tensor"
      ],
      "metadata": {
        "id": "fKsEmOqaWqqX"
      }
    },
    {
      "cell_type": "code",
      "source": [
        "val = tf.constant([1,2.2])\n",
        "val.dtype"
      ],
      "metadata": {
        "colab": {
          "base_uri": "https://localhost:8080/"
        },
        "id": "jAuFtPfeXo2P",
        "outputId": "7a1c44d0-f5e1-46b6-9149-508c6eeca823"
      },
      "execution_count": 66,
      "outputs": [
        {
          "output_type": "execute_result",
          "data": {
            "text/plain": [
              "tf.float32"
            ]
          },
          "metadata": {},
          "execution_count": 66
        }
      ]
    },
    {
      "cell_type": "code",
      "source": [
        "# Changing datatype of a tensor\n",
        "tf.cast(val,dtype = tf.int16)"
      ],
      "metadata": {
        "colab": {
          "base_uri": "https://localhost:8080/"
        },
        "id": "nfsp_E8HXtXv",
        "outputId": "07d5c931-c541-45b9-fb9b-e8d43dab67a1"
      },
      "execution_count": 68,
      "outputs": [
        {
          "output_type": "execute_result",
          "data": {
            "text/plain": [
              "<tf.Tensor: shape=(2,), dtype=int16, numpy=array([1, 2], dtype=int16)>"
            ]
          },
          "metadata": {},
          "execution_count": 68
        }
      ]
    },
    {
      "cell_type": "markdown",
      "source": [
        "## Squeezing a tensor (removing all single dimensions i.e dimensions with value one)"
      ],
      "metadata": {
        "id": "DVU26dweZQJv"
      }
    },
    {
      "cell_type": "code",
      "source": [
        "tf.random.set_seed(42)\n",
        "tensor = tf.constant(tf.random.uniform(shape=[50]),shape=(1,1,1,1,50))\n",
        "tensor"
      ],
      "metadata": {
        "colab": {
          "base_uri": "https://localhost:8080/"
        },
        "id": "k0jBb73yebsT",
        "outputId": "1f9fedcc-a14d-420c-f8cd-3c9fe9a1b86a"
      },
      "execution_count": 69,
      "outputs": [
        {
          "output_type": "execute_result",
          "data": {
            "text/plain": [
              "<tf.Tensor: shape=(1, 1, 1, 1, 50), dtype=float32, numpy=\n",
              "array([[[[[0.6645621 , 0.44100678, 0.3528825 , 0.46448255, 0.03366041,\n",
              "           0.68467236, 0.74011743, 0.8724445 , 0.22632635, 0.22319686,\n",
              "           0.3103881 , 0.7223358 , 0.13318717, 0.5480639 , 0.5746088 ,\n",
              "           0.8996835 , 0.00946367, 0.5212307 , 0.6345445 , 0.1993283 ,\n",
              "           0.72942245, 0.54583454, 0.10756552, 0.6767061 , 0.6602763 ,\n",
              "           0.33695042, 0.60141766, 0.21062577, 0.8527372 , 0.44062173,\n",
              "           0.9485276 , 0.23752594, 0.81179297, 0.5263394 , 0.494308  ,\n",
              "           0.21612847, 0.8457197 , 0.8718841 , 0.3083862 , 0.6868038 ,\n",
              "           0.23764038, 0.7817228 , 0.9671384 , 0.06870162, 0.79873943,\n",
              "           0.66028714, 0.5871513 , 0.16461694, 0.7381023 , 0.32054043]]]]],\n",
              "      dtype=float32)>"
            ]
          },
          "metadata": {},
          "execution_count": 69
        }
      ]
    },
    {
      "cell_type": "code",
      "source": [
        "tensor_squeezed = tf.squeeze(tensor)\n",
        "tensor_squeezed,tensor_squeezed.shape,tensor_squeezed.ndim"
      ],
      "metadata": {
        "colab": {
          "base_uri": "https://localhost:8080/"
        },
        "id": "xevTpUGFetLz",
        "outputId": "976b8bdd-ebb0-4aa9-cfa4-eb53722a78fb"
      },
      "execution_count": 71,
      "outputs": [
        {
          "output_type": "execute_result",
          "data": {
            "text/plain": [
              "(<tf.Tensor: shape=(50,), dtype=float32, numpy=\n",
              " array([0.6645621 , 0.44100678, 0.3528825 , 0.46448255, 0.03366041,\n",
              "        0.68467236, 0.74011743, 0.8724445 , 0.22632635, 0.22319686,\n",
              "        0.3103881 , 0.7223358 , 0.13318717, 0.5480639 , 0.5746088 ,\n",
              "        0.8996835 , 0.00946367, 0.5212307 , 0.6345445 , 0.1993283 ,\n",
              "        0.72942245, 0.54583454, 0.10756552, 0.6767061 , 0.6602763 ,\n",
              "        0.33695042, 0.60141766, 0.21062577, 0.8527372 , 0.44062173,\n",
              "        0.9485276 , 0.23752594, 0.81179297, 0.5263394 , 0.494308  ,\n",
              "        0.21612847, 0.8457197 , 0.8718841 , 0.3083862 , 0.6868038 ,\n",
              "        0.23764038, 0.7817228 , 0.9671384 , 0.06870162, 0.79873943,\n",
              "        0.66028714, 0.5871513 , 0.16461694, 0.7381023 , 0.32054043],\n",
              "       dtype=float32)>, TensorShape([50]), 1)"
            ]
          },
          "metadata": {},
          "execution_count": 71
        }
      ]
    },
    {
      "cell_type": "code",
      "source": [],
      "metadata": {
        "id": "nrcUC4cxe-y7"
      },
      "execution_count": null,
      "outputs": []
    }
  ]
}