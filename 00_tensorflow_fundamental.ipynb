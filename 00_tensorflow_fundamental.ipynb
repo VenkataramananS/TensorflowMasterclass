{
  "nbformat": 4,
  "nbformat_minor": 0,
  "metadata": {
    "colab": {
      "provenance": []
    },
    "kernelspec": {
      "name": "python3",
      "display_name": "Python 3"
    },
    "language_info": {
      "name": "python"
    }
  },
  "cells": [
    {
      "cell_type": "markdown",
      "source": [
        "most fundamental concepts of tensor using tensorflow.\n",
        "\n",
        "Topics covered:\n",
        "\n",
        "\n",
        "1.   Introduction to tensors\n",
        "2.   Getting more info from tensors\n",
        "3.   Manipulating tensors\n",
        "4.   Tensors and Numpy5. Using tf.dunction ( a way to speed up regular        python functions)\n",
        "6.   Using GPUs with tensorflow or (TPUs) \n",
        "7.   Exercises"
      ],
      "metadata": {
        "id": "1W8MAS-F9mix"
      }
    },
    {
      "cell_type": "markdown",
      "source": [
        "## Introduction to Tensors"
      ],
      "metadata": {
        "id": "PRbhx5gO95zZ"
      }
    },
    {
      "cell_type": "code",
      "source": [
        "# Import Tensorflow\n",
        "import tensorflow as tf\n",
        "print(tf.__version__)"
      ],
      "metadata": {
        "colab": {
          "base_uri": "https://localhost:8080/"
        },
        "id": "olhx33dWA0eH",
        "outputId": "dde7b752-f86b-4291-f2bf-adb2648904bf"
      },
      "execution_count": null,
      "outputs": [
        {
          "output_type": "stream",
          "name": "stdout",
          "text": [
            "2.9.2\n"
          ]
        }
      ]
    },
    {
      "cell_type": "code",
      "source": [
        "# Create tensors with tf.constants()\n",
        "scalar = tf.constant(7)\n",
        "scalar"
      ],
      "metadata": {
        "colab": {
          "base_uri": "https://localhost:8080/"
        },
        "id": "lkcf_B03A4G5",
        "outputId": "0b4ce36c-ba8e-41ff-a033-20605ade2078"
      },
      "execution_count": null,
      "outputs": [
        {
          "output_type": "execute_result",
          "data": {
            "text/plain": [
              "<tf.Tensor: shape=(), dtype=int32, numpy=7>"
            ]
          },
          "metadata": {},
          "execution_count": 3
        }
      ]
    },
    {
      "cell_type": "code",
      "source": [
        "# Check number of dimensions in Tensor (ndim stands number of dimensions)\n",
        "scalar.ndim"
      ],
      "metadata": {
        "colab": {
          "base_uri": "https://localhost:8080/"
        },
        "id": "SPO-inMiBY38",
        "outputId": "299b0e07-16b7-4cca-e664-3d843322eea0"
      },
      "execution_count": null,
      "outputs": [
        {
          "output_type": "execute_result",
          "data": {
            "text/plain": [
              "0"
            ]
          },
          "metadata": {},
          "execution_count": 4
        }
      ]
    },
    {
      "cell_type": "code",
      "source": [
        "# Create a vector\n",
        "vector = tf.constant([10,10])\n",
        "vector"
      ],
      "metadata": {
        "colab": {
          "base_uri": "https://localhost:8080/"
        },
        "id": "jVInsM0DCHMa",
        "outputId": "6a29c420-9e6d-4dcd-d347-43decedd3020"
      },
      "execution_count": null,
      "outputs": [
        {
          "output_type": "execute_result",
          "data": {
            "text/plain": [
              "<tf.Tensor: shape=(2,), dtype=int32, numpy=array([10, 10], dtype=int32)>"
            ]
          },
          "metadata": {},
          "execution_count": 5
        }
      ]
    },
    {
      "cell_type": "code",
      "source": [
        "# Check the dimension of a vector\n",
        "vector.ndim"
      ],
      "metadata": {
        "colab": {
          "base_uri": "https://localhost:8080/"
        },
        "id": "ge4JpSxbCPgg",
        "outputId": "ad0bebcc-9314-46f0-9fbb-cbe5d30d2aef"
      },
      "execution_count": null,
      "outputs": [
        {
          "output_type": "execute_result",
          "data": {
            "text/plain": [
              "1"
            ]
          },
          "metadata": {},
          "execution_count": 6
        }
      ]
    },
    {
      "cell_type": "code",
      "source": [
        "# Create a matrix (more than 1 dimension)\n",
        "matrix = tf.constant([[10,7],[7,10]])\n",
        "matrix"
      ],
      "metadata": {
        "colab": {
          "base_uri": "https://localhost:8080/"
        },
        "id": "XeDJ8l6SCcdg",
        "outputId": "4b88e868-ba60-4b86-8610-b607c91d445b"
      },
      "execution_count": null,
      "outputs": [
        {
          "output_type": "execute_result",
          "data": {
            "text/plain": [
              "<tf.Tensor: shape=(2, 2), dtype=int32, numpy=\n",
              "array([[10,  7],\n",
              "       [ 7, 10]], dtype=int32)>"
            ]
          },
          "metadata": {},
          "execution_count": 7
        }
      ]
    },
    {
      "cell_type": "code",
      "source": [
        "# Check the dimension of a matrix\n",
        "matrix.ndim"
      ],
      "metadata": {
        "colab": {
          "base_uri": "https://localhost:8080/"
        },
        "id": "3SlW6LGmC_0C",
        "outputId": "d309451b-a806-4438-bcf9-94deb7e6b03d"
      },
      "execution_count": null,
      "outputs": [
        {
          "output_type": "execute_result",
          "data": {
            "text/plain": [
              "2"
            ]
          },
          "metadata": {},
          "execution_count": 8
        }
      ]
    },
    {
      "cell_type": "code",
      "source": [
        "# Create a tensor\n",
        "tensor = tf.constant([[[1,2,3],\n",
        "                        [4,5,6]],\n",
        "                       [[7,8,9],\n",
        "                        [10,11,12]],\n",
        "                       [[13,14,15],\n",
        "                        [16,17,18]]\n",
        "                       ])\n",
        "tensor"
      ],
      "metadata": {
        "colab": {
          "base_uri": "https://localhost:8080/"
        },
        "id": "2A9nFcuODH2R",
        "outputId": "f9e7003c-26e2-44e7-eae6-1c3139662f5a"
      },
      "execution_count": null,
      "outputs": [
        {
          "output_type": "execute_result",
          "data": {
            "text/plain": [
              "<tf.Tensor: shape=(3, 2, 3), dtype=int32, numpy=\n",
              "array([[[ 1,  2,  3],\n",
              "        [ 4,  5,  6]],\n",
              "\n",
              "       [[ 7,  8,  9],\n",
              "        [10, 11, 12]],\n",
              "\n",
              "       [[13, 14, 15],\n",
              "        [16, 17, 18]]], dtype=int32)>"
            ]
          },
          "metadata": {},
          "execution_count": 9
        }
      ]
    },
    {
      "cell_type": "code",
      "source": [
        "# Check the dimension of a tensor\n",
        "tensor.ndim"
      ],
      "metadata": {
        "colab": {
          "base_uri": "https://localhost:8080/"
        },
        "id": "YZC7InFAEe36",
        "outputId": "76efa9bd-5847-483c-99b4-07af1079c84b"
      },
      "execution_count": null,
      "outputs": [
        {
          "output_type": "execute_result",
          "data": {
            "text/plain": [
              "3"
            ]
          },
          "metadata": {},
          "execution_count": 10
        }
      ]
    },
    {
      "cell_type": "markdown",
      "source": [
        "### Creating variables with tf.Variable"
      ],
      "metadata": {
        "id": "JJ9D39AdA9SY"
      }
    },
    {
      "cell_type": "code",
      "source": [
        "# Create same tensor with tf.Variable() as above\n",
        "variable_tensor = tf.Variable([10,7])\n",
        "constant_tensor = tf.constant([10,7])\n",
        "variable_tensor,constant_tensor"
      ],
      "metadata": {
        "id": "0r1b4Jh3Evr6",
        "colab": {
          "base_uri": "https://localhost:8080/"
        },
        "outputId": "6b0a8b02-52bd-4881-de79-077b029a6b28"
      },
      "execution_count": null,
      "outputs": [
        {
          "output_type": "execute_result",
          "data": {
            "text/plain": [
              "(<tf.Variable 'Variable:0' shape=(2,) dtype=int32, numpy=array([10,  7], dtype=int32)>,\n",
              " <tf.Tensor: shape=(2,), dtype=int32, numpy=array([10,  7], dtype=int32)>)"
            ]
          },
          "metadata": {},
          "execution_count": 11
        }
      ]
    },
    {
      "cell_type": "code",
      "source": [
        "# Let's try to change one of the element in the variable tensor\n",
        "variable_tensor[0] = 7\n",
        "variable_tensor"
      ],
      "metadata": {
        "colab": {
          "base_uri": "https://localhost:8080/",
          "height": 200
        },
        "id": "69J5Mj5pBjst",
        "outputId": "13f352f2-a47a-4b13-8c33-ebdee48cc753"
      },
      "execution_count": null,
      "outputs": [
        {
          "output_type": "error",
          "ename": "TypeError",
          "evalue": "ignored",
          "traceback": [
            "\u001b[0;31m---------------------------------------------------------------------------\u001b[0m",
            "\u001b[0;31mTypeError\u001b[0m                                 Traceback (most recent call last)",
            "\u001b[0;32m<ipython-input-12-58bb30fc7714>\u001b[0m in \u001b[0;36m<module>\u001b[0;34m\u001b[0m\n\u001b[1;32m      1\u001b[0m \u001b[0;31m# Let's try to change one of the element in the variable tensor\u001b[0m\u001b[0;34m\u001b[0m\u001b[0;34m\u001b[0m\u001b[0;34m\u001b[0m\u001b[0m\n\u001b[0;32m----> 2\u001b[0;31m \u001b[0mvariable_tensor\u001b[0m\u001b[0;34m[\u001b[0m\u001b[0;36m0\u001b[0m\u001b[0;34m]\u001b[0m \u001b[0;34m=\u001b[0m \u001b[0;36m7\u001b[0m\u001b[0;34m\u001b[0m\u001b[0;34m\u001b[0m\u001b[0m\n\u001b[0m\u001b[1;32m      3\u001b[0m \u001b[0mvariable_tensor\u001b[0m\u001b[0;34m\u001b[0m\u001b[0;34m\u001b[0m\u001b[0m\n",
            "\u001b[0;31mTypeError\u001b[0m: 'ResourceVariable' object does not support item assignment"
          ]
        }
      ]
    },
    {
      "cell_type": "code",
      "source": [
        "# now replacing value using .assign() function\n",
        "variable_tensor[0].assign(7)\n",
        "variable_tensor"
      ],
      "metadata": {
        "colab": {
          "base_uri": "https://localhost:8080/"
        },
        "id": "KdSl-ztcB8K1",
        "outputId": "b3fcfad3-78a8-43df-b837-3e1b3d8e1781"
      },
      "execution_count": null,
      "outputs": [
        {
          "output_type": "execute_result",
          "data": {
            "text/plain": [
              "<tf.Variable 'Variable:0' shape=(2,) dtype=int32, numpy=array([7, 7], dtype=int32)>"
            ]
          },
          "metadata": {},
          "execution_count": 13
        }
      ]
    },
    {
      "cell_type": "code",
      "source": [
        "# now trying the same in the constant tensor\n",
        "constant_tensor[0].assign(7)"
      ],
      "metadata": {
        "colab": {
          "base_uri": "https://localhost:8080/",
          "height": 304
        },
        "id": "SeKTxSD1CHAI",
        "outputId": "453845f7-b93f-4cd1-dc4e-9f205417b7df"
      },
      "execution_count": null,
      "outputs": [
        {
          "output_type": "error",
          "ename": "AttributeError",
          "evalue": "ignored",
          "traceback": [
            "\u001b[0;31m---------------------------------------------------------------------------\u001b[0m",
            "\u001b[0;31mAttributeError\u001b[0m                            Traceback (most recent call last)",
            "\u001b[0;32m<ipython-input-15-f82f569b5d04>\u001b[0m in \u001b[0;36m<module>\u001b[0;34m\u001b[0m\n\u001b[1;32m      1\u001b[0m \u001b[0;31m# now trying the same in the constant tensor\u001b[0m\u001b[0;34m\u001b[0m\u001b[0;34m\u001b[0m\u001b[0;34m\u001b[0m\u001b[0m\n\u001b[0;32m----> 2\u001b[0;31m \u001b[0mconstant_tensor\u001b[0m\u001b[0;34m[\u001b[0m\u001b[0;36m0\u001b[0m\u001b[0;34m]\u001b[0m\u001b[0;34m.\u001b[0m\u001b[0massign\u001b[0m\u001b[0;34m(\u001b[0m\u001b[0;36m7\u001b[0m\u001b[0;34m)\u001b[0m\u001b[0;34m\u001b[0m\u001b[0;34m\u001b[0m\u001b[0m\n\u001b[0m",
            "\u001b[0;32m/usr/local/lib/python3.7/dist-packages/tensorflow/python/framework/ops.py\u001b[0m in \u001b[0;36m__getattr__\u001b[0;34m(self, name)\u001b[0m\n\u001b[1;32m    444\u001b[0m         \u001b[0mnp_config\u001b[0m\u001b[0;34m.\u001b[0m\u001b[0menable_numpy_behavior\u001b[0m\u001b[0;34m(\u001b[0m\u001b[0;34m)\u001b[0m\u001b[0;34m\u001b[0m\u001b[0;34m\u001b[0m\u001b[0m\n\u001b[1;32m    445\u001b[0m       \"\"\")\n\u001b[0;32m--> 446\u001b[0;31m     \u001b[0mself\u001b[0m\u001b[0;34m.\u001b[0m\u001b[0m__getattribute__\u001b[0m\u001b[0;34m(\u001b[0m\u001b[0mname\u001b[0m\u001b[0;34m)\u001b[0m\u001b[0;34m\u001b[0m\u001b[0;34m\u001b[0m\u001b[0m\n\u001b[0m\u001b[1;32m    447\u001b[0m \u001b[0;34m\u001b[0m\u001b[0m\n\u001b[1;32m    448\u001b[0m   \u001b[0;34m@\u001b[0m\u001b[0mstaticmethod\u001b[0m\u001b[0;34m\u001b[0m\u001b[0;34m\u001b[0m\u001b[0m\n",
            "\u001b[0;31mAttributeError\u001b[0m: 'tensorflow.python.framework.ops.EagerTensor' object has no attribute 'assign'"
          ]
        }
      ]
    },
    {
      "cell_type": "markdown",
      "source": [
        "### Creation of random tensors"
      ],
      "metadata": {
        "id": "N2zHIP_uDxV3"
      }
    },
    {
      "cell_type": "code",
      "source": [
        "# Create two tensors (but the same)\n",
        "r1 = tf.random.Generator.from_seed(10)\n",
        "r1 = r1.normal(shape=(3,2))\n",
        "r2 = tf.random.Generator.from_seed(10)\n",
        "r2 = r2.normal(shape=(3,2))\n",
        "\n",
        "# Are they same?\n",
        "r1,r2,r1==r2"
      ],
      "metadata": {
        "colab": {
          "base_uri": "https://localhost:8080/"
        },
        "id": "FLosEA2DCQKo",
        "outputId": "51b7871f-ea26-4faf-84e9-d1263237310d"
      },
      "execution_count": null,
      "outputs": [
        {
          "output_type": "execute_result",
          "data": {
            "text/plain": [
              "(<tf.Tensor: shape=(3, 2), dtype=float32, numpy=\n",
              " array([[-0.29604465, -0.21134205],\n",
              "        [ 0.01063002,  1.5165398 ],\n",
              "        [ 0.27305737, -0.29925638]], dtype=float32)>,\n",
              " <tf.Tensor: shape=(3, 2), dtype=float32, numpy=\n",
              " array([[-0.29604465, -0.21134205],\n",
              "        [ 0.01063002,  1.5165398 ],\n",
              "        [ 0.27305737, -0.29925638]], dtype=float32)>,\n",
              " <tf.Tensor: shape=(3, 2), dtype=bool, numpy=\n",
              " array([[ True,  True],\n",
              "        [ True,  True],\n",
              "        [ True,  True]])>)"
            ]
          },
          "metadata": {},
          "execution_count": 16
        }
      ]
    },
    {
      "cell_type": "markdown",
      "source": [
        "### Shuffle the order of elements in tensor"
      ],
      "metadata": {
        "id": "P9hTAfOhEerO"
      }
    },
    {
      "cell_type": "code",
      "source": [
        "# Shuffle a tensor\n",
        "unshuffled = tf.constant([[[10,7,6],[2,5,3],[1,4,9]],[[20,17,16],[12,15,13],[11,14,19]],[[30,27,26],[22,25,23],[21,24,29]]])\n",
        "unshuffled.ndim,unshuffled"
      ],
      "metadata": {
        "colab": {
          "base_uri": "https://localhost:8080/"
        },
        "id": "2ZRVMKY8EO8B",
        "outputId": "a9fff802-e2d3-46e1-9e0e-8a0d28336e14"
      },
      "execution_count": null,
      "outputs": [
        {
          "output_type": "execute_result",
          "data": {
            "text/plain": [
              "(3, <tf.Tensor: shape=(3, 3, 3), dtype=int32, numpy=\n",
              " array([[[10,  7,  6],\n",
              "         [ 2,  5,  3],\n",
              "         [ 1,  4,  9]],\n",
              " \n",
              "        [[20, 17, 16],\n",
              "         [12, 15, 13],\n",
              "         [11, 14, 19]],\n",
              " \n",
              "        [[30, 27, 26],\n",
              "         [22, 25, 23],\n",
              "         [21, 24, 29]]], dtype=int32)>)"
            ]
          },
          "metadata": {},
          "execution_count": 25
        }
      ]
    },
    {
      "cell_type": "code",
      "source": [
        "tf.random.shuffle(unshuffled)"
      ],
      "metadata": {
        "colab": {
          "base_uri": "https://localhost:8080/"
        },
        "id": "bMPnFrpJFpXI",
        "outputId": "c59ddd30-b7ea-40c7-8eeb-b33b08f37c89"
      },
      "execution_count": null,
      "outputs": [
        {
          "output_type": "execute_result",
          "data": {
            "text/plain": [
              "<tf.Tensor: shape=(3, 3, 3), dtype=int32, numpy=\n",
              "array([[[20, 17, 16],\n",
              "        [12, 15, 13],\n",
              "        [11, 14, 19]],\n",
              "\n",
              "       [[30, 27, 26],\n",
              "        [22, 25, 23],\n",
              "        [21, 24, 29]],\n",
              "\n",
              "       [[10,  7,  6],\n",
              "        [ 2,  5,  3],\n",
              "        [ 1,  4,  9]]], dtype=int32)>"
            ]
          },
          "metadata": {},
          "execution_count": 26
        }
      ]
    },
    {
      "cell_type": "markdown",
      "source": [
        "### Home Work Exercise\n",
        "read -> https://www.tensorflow.org/api_docs/python/tf/random/set_seed\n",
        "\n",
        "Create 5 random tensors and shuffle them"
      ],
      "metadata": {
        "id": "BZgCdavkIngh"
      }
    },
    {
      "cell_type": "code",
      "source": [
        "rv1 = tf.constant([[1,7],[2,8]])\n",
        "print(rv1.ndim)\n",
        "print(\"Same Seed \",tf.random.shuffle(rv1,seed = 9))\n",
        "print(\"Same Seed \",tf.random.shuffle(rv1,seed = 9))\n",
        "print(\"Different Seed \",tf.random.shuffle(rv1,seed = 6))"
      ],
      "metadata": {
        "colab": {
          "base_uri": "https://localhost:8080/"
        },
        "id": "rP6SCJeuFLBQ",
        "outputId": "f8de202e-52df-43ca-8697-201c1ec1d393"
      },
      "execution_count": null,
      "outputs": [
        {
          "output_type": "stream",
          "name": "stdout",
          "text": [
            "2\n",
            "tf.Tensor(\n",
            "[[2 8]\n",
            " [1 7]], shape=(2, 2), dtype=int32)\n",
            "tf.Tensor(\n",
            "[[2 8]\n",
            " [1 7]], shape=(2, 2), dtype=int32)\n",
            "tf.Tensor(\n",
            "[[1 7]\n",
            " [2 8]], shape=(2, 2), dtype=int32)\n"
          ]
        }
      ]
    },
    {
      "cell_type": "code",
      "source": [
        "rv2 = tf.constant([[1,7],[2,8],[3,9]])\n",
        "print(rv2.ndim)\n",
        "print(\"Same Seed \",tf.random.shuffle(rv2,seed = 9))\n",
        "print(\"Same Seed \",tf.random.shuffle(rv2,seed = 9))\n",
        "print(\"Different Seed \",tf.random.shuffle(rv2,seed = 6))"
      ],
      "metadata": {
        "colab": {
          "base_uri": "https://localhost:8080/"
        },
        "id": "_ZG9pfPvFTkY",
        "outputId": "f54c79ef-a96c-40a0-ed86-5a621c502b36"
      },
      "execution_count": null,
      "outputs": [
        {
          "output_type": "stream",
          "name": "stdout",
          "text": [
            "2\n",
            "Same Seed  tf.Tensor(\n",
            "[[1 7]\n",
            " [3 9]\n",
            " [2 8]], shape=(3, 2), dtype=int32)\n",
            "Same Seed  tf.Tensor(\n",
            "[[1 7]\n",
            " [2 8]\n",
            " [3 9]], shape=(3, 2), dtype=int32)\n",
            "Different Seed  tf.Tensor(\n",
            "[[3 9]\n",
            " [2 8]\n",
            " [1 7]], shape=(3, 2), dtype=int32)\n"
          ]
        }
      ]
    },
    {
      "cell_type": "code",
      "source": [
        "rv3 = tf.constant([[[1,7]],[[2,8]],[[3,9]]])\n",
        "print(rv3.ndim)\n",
        "print(\"Same Seed \",tf.random.shuffle(rv3,seed = 9))\n",
        "print(\"Same Seed \",tf.random.shuffle(rv3,seed = 9))\n",
        "print(\"Different Seed \",tf.random.shuffle(rv3,seed = 6))"
      ],
      "metadata": {
        "colab": {
          "base_uri": "https://localhost:8080/"
        },
        "id": "sUqHd21uJBi5",
        "outputId": "1078a26e-5572-42e4-f28f-a1e3a00ec39b"
      },
      "execution_count": null,
      "outputs": [
        {
          "output_type": "stream",
          "name": "stdout",
          "text": [
            "3\n",
            "Same Seed  tf.Tensor(\n",
            "[[[3 9]]\n",
            "\n",
            " [[2 8]]\n",
            "\n",
            " [[1 7]]], shape=(3, 1, 2), dtype=int32)\n",
            "Same Seed  tf.Tensor(\n",
            "[[[1 7]]\n",
            "\n",
            " [[3 9]]\n",
            "\n",
            " [[2 8]]], shape=(3, 1, 2), dtype=int32)\n",
            "Different Seed  tf.Tensor(\n",
            "[[[3 9]]\n",
            "\n",
            " [[1 7]]\n",
            "\n",
            " [[2 8]]], shape=(3, 1, 2), dtype=int32)\n"
          ]
        }
      ]
    },
    {
      "cell_type": "code",
      "source": [
        "rv4 = tf.constant([[[1,7],[11,17]],[[2,8],[12,18]],[[3,9],[13,19]]])\n",
        "print(rv4.ndim)\n",
        "print(\"Same Seed \",tf.random.shuffle(rv4,seed = 9))\n",
        "print(\"Same Seed \",tf.random.shuffle(rv4,seed = 9))\n",
        "print(\"Different Seed \",tf.random.shuffle(rv4,seed = 6))"
      ],
      "metadata": {
        "colab": {
          "base_uri": "https://localhost:8080/"
        },
        "id": "TC2lFu_aJqgZ",
        "outputId": "62a09f00-0c4a-4077-9cb9-7f1c9e31afc8"
      },
      "execution_count": null,
      "outputs": [
        {
          "output_type": "stream",
          "name": "stdout",
          "text": [
            "3\n",
            "Same Seed  tf.Tensor(\n",
            "[[[ 1  7]\n",
            "  [11 17]]\n",
            "\n",
            " [[ 3  9]\n",
            "  [13 19]]\n",
            "\n",
            " [[ 2  8]\n",
            "  [12 18]]], shape=(3, 2, 2), dtype=int32)\n",
            "Same Seed  tf.Tensor(\n",
            "[[[ 3  9]\n",
            "  [13 19]]\n",
            "\n",
            " [[ 2  8]\n",
            "  [12 18]]\n",
            "\n",
            " [[ 1  7]\n",
            "  [11 17]]], shape=(3, 2, 2), dtype=int32)\n",
            "Different Seed  tf.Tensor(\n",
            "[[[ 1  7]\n",
            "  [11 17]]\n",
            "\n",
            " [[ 3  9]\n",
            "  [13 19]]\n",
            "\n",
            " [[ 2  8]\n",
            "  [12 18]]], shape=(3, 2, 2), dtype=int32)\n"
          ]
        }
      ]
    },
    {
      "cell_type": "code",
      "source": [
        "rv5 = tf.constant([[[1,7,-1],[11,17,-11]],[[2,8,-2],[12,18,-12]],[[3,9,-3],[13,19,-13]]])\n",
        "print(rv5.ndim)\n",
        "print(\"Same Seed \",tf.random.shuffle(rv5,seed = 9))\n",
        "print(\"Same Seed \",tf.random.shuffle(rv5,seed = 9))\n",
        "print(\"Different Seed \",tf.random.shuffle(rv5,seed = 6))"
      ],
      "metadata": {
        "colab": {
          "base_uri": "https://localhost:8080/"
        },
        "id": "Nkfk3Bl7Kf-I",
        "outputId": "7f48bd14-d404-4825-83bb-f31d2393c41a"
      },
      "execution_count": null,
      "outputs": [
        {
          "output_type": "stream",
          "name": "stdout",
          "text": [
            "3\n",
            "Same Seed  tf.Tensor(\n",
            "[[[  2   8  -2]\n",
            "  [ 12  18 -12]]\n",
            "\n",
            " [[  1   7  -1]\n",
            "  [ 11  17 -11]]\n",
            "\n",
            " [[  3   9  -3]\n",
            "  [ 13  19 -13]]], shape=(3, 2, 3), dtype=int32)\n",
            "Same Seed  tf.Tensor(\n",
            "[[[  2   8  -2]\n",
            "  [ 12  18 -12]]\n",
            "\n",
            " [[  3   9  -3]\n",
            "  [ 13  19 -13]]\n",
            "\n",
            " [[  1   7  -1]\n",
            "  [ 11  17 -11]]], shape=(3, 2, 3), dtype=int32)\n",
            "Different Seed  tf.Tensor(\n",
            "[[[  1   7  -1]\n",
            "  [ 11  17 -11]]\n",
            "\n",
            " [[  3   9  -3]\n",
            "  [ 13  19 -13]]\n",
            "\n",
            " [[  2   8  -2]\n",
            "  [ 12  18 -12]]], shape=(3, 2, 3), dtype=int32)\n"
          ]
        }
      ]
    },
    {
      "cell_type": "markdown",
      "source": [
        "### Other ways to make tensors"
      ],
      "metadata": {
        "id": "vFZXv--AMDqj"
      }
    },
    {
      "cell_type": "code",
      "source": [
        "# Create a tensor of all ones\n",
        "tf.ones([3,4], tf.int32)"
      ],
      "metadata": {
        "colab": {
          "base_uri": "https://localhost:8080/"
        },
        "id": "5Onuh3QmKwgx",
        "outputId": "34ff9d19-4010-4e33-eb4d-ba8adc24228e"
      },
      "execution_count": null,
      "outputs": [
        {
          "output_type": "execute_result",
          "data": {
            "text/plain": [
              "<tf.Tensor: shape=(3, 4), dtype=int32, numpy=\n",
              "array([[1, 1, 1, 1],\n",
              "       [1, 1, 1, 1],\n",
              "       [1, 1, 1, 1]], dtype=int32)>"
            ]
          },
          "metadata": {},
          "execution_count": 48
        }
      ]
    },
    {
      "cell_type": "code",
      "source": [
        "# Create a tensor of all zeros\n",
        "tf.zeros(shape=(3,4))"
      ],
      "metadata": {
        "colab": {
          "base_uri": "https://localhost:8080/"
        },
        "id": "01hPj8vcMBiJ",
        "outputId": "7ce2763f-741d-4a37-eb82-b5449a1172c6"
      },
      "execution_count": null,
      "outputs": [
        {
          "output_type": "execute_result",
          "data": {
            "text/plain": [
              "<tf.Tensor: shape=(3, 4), dtype=float32, numpy=\n",
              "array([[0., 0., 0., 0.],\n",
              "       [0., 0., 0., 0.],\n",
              "       [0., 0., 0., 0.]], dtype=float32)>"
            ]
          },
          "metadata": {},
          "execution_count": 46
        }
      ]
    },
    {
      "cell_type": "markdown",
      "source": [
        "# Turning numpy arrays into tensors\n",
        "\n",
        "The main difference between Numpy and a tensor is that Tensor uses GPU to run whereas numpy uses the CPU"
      ],
      "metadata": {
        "id": "l6DGYRApMfDL"
      }
    },
    {
      "cell_type": "code",
      "source": [
        "import numpy as np"
      ],
      "metadata": {
        "id": "TXEHmcFFMUzK"
      },
      "execution_count": null,
      "outputs": []
    },
    {
      "cell_type": "code",
      "source": [
        "numpy_A = np.arange(1,25,dtype=np.int32) # Create numpy array between 1 and 25\n",
        "numpy_A"
      ],
      "metadata": {
        "colab": {
          "base_uri": "https://localhost:8080/"
        },
        "id": "cJHPRJXiMrvy",
        "outputId": "d751aadd-000d-414c-e196-d77d4861d17b"
      },
      "execution_count": null,
      "outputs": [
        {
          "output_type": "execute_result",
          "data": {
            "text/plain": [
              "array([ 1,  2,  3,  4,  5,  6,  7,  8,  9, 10, 11, 12, 13, 14, 15, 16, 17,\n",
              "       18, 19, 20, 21, 22, 23, 24], dtype=int32)"
            ]
          },
          "metadata": {},
          "execution_count": 52
        }
      ]
    },
    {
      "cell_type": "code",
      "source": [
        "a = tf.constant(numpy_A,shape = (2,3,4)) # cumulative multiplication value of shape should match the total numbers of the numpy array i.e 2*3*4 => 24 == 24(numpy array shape)\n",
        "a"
      ],
      "metadata": {
        "colab": {
          "base_uri": "https://localhost:8080/"
        },
        "id": "yGTXCXvUM2dr",
        "outputId": "70499ba9-f498-4e73-c4ff-652bacaf8f35"
      },
      "execution_count": null,
      "outputs": [
        {
          "output_type": "execute_result",
          "data": {
            "text/plain": [
              "<tf.Tensor: shape=(2, 3, 4), dtype=int32, numpy=\n",
              "array([[[ 1,  2,  3,  4],\n",
              "        [ 5,  6,  7,  8],\n",
              "        [ 9, 10, 11, 12]],\n",
              "\n",
              "       [[13, 14, 15, 16],\n",
              "        [17, 18, 19, 20],\n",
              "        [21, 22, 23, 24]]], dtype=int32)>"
            ]
          },
          "metadata": {},
          "execution_count": 54
        }
      ]
    },
    {
      "cell_type": "markdown",
      "source": [
        "### Getting more information from the tensors\n",
        "\n",
        "When dealing with Tensors\n",
        "\n",
        "\n",
        "1.   Shape\n",
        "2.   Rank\n",
        "3.   Axis or Dimension\n",
        "4.   Size\n",
        "\n"
      ],
      "metadata": {
        "id": "y9AaIbSaOFQK"
      }
    },
    {
      "cell_type": "code",
      "source": [
        "# Create a rank 4 tensor (4 dimension)\n",
        "\n",
        "rnk_4_tensor = tf.zeros(shape=[2,3,4,5])\n",
        "rnk_4_tensor"
      ],
      "metadata": {
        "colab": {
          "base_uri": "https://localhost:8080/"
        },
        "id": "yZsWKwyaNAp0",
        "outputId": "9e23adfc-b71a-44c6-fa31-b71c59ee71d0"
      },
      "execution_count": null,
      "outputs": [
        {
          "output_type": "execute_result",
          "data": {
            "text/plain": [
              "<tf.Tensor: shape=(2, 3, 4, 5), dtype=float32, numpy=\n",
              "array([[[[0., 0., 0., 0., 0.],\n",
              "         [0., 0., 0., 0., 0.],\n",
              "         [0., 0., 0., 0., 0.],\n",
              "         [0., 0., 0., 0., 0.]],\n",
              "\n",
              "        [[0., 0., 0., 0., 0.],\n",
              "         [0., 0., 0., 0., 0.],\n",
              "         [0., 0., 0., 0., 0.],\n",
              "         [0., 0., 0., 0., 0.]],\n",
              "\n",
              "        [[0., 0., 0., 0., 0.],\n",
              "         [0., 0., 0., 0., 0.],\n",
              "         [0., 0., 0., 0., 0.],\n",
              "         [0., 0., 0., 0., 0.]]],\n",
              "\n",
              "\n",
              "       [[[0., 0., 0., 0., 0.],\n",
              "         [0., 0., 0., 0., 0.],\n",
              "         [0., 0., 0., 0., 0.],\n",
              "         [0., 0., 0., 0., 0.]],\n",
              "\n",
              "        [[0., 0., 0., 0., 0.],\n",
              "         [0., 0., 0., 0., 0.],\n",
              "         [0., 0., 0., 0., 0.],\n",
              "         [0., 0., 0., 0., 0.]],\n",
              "\n",
              "        [[0., 0., 0., 0., 0.],\n",
              "         [0., 0., 0., 0., 0.],\n",
              "         [0., 0., 0., 0., 0.],\n",
              "         [0., 0., 0., 0., 0.]]]], dtype=float32)>"
            ]
          },
          "metadata": {},
          "execution_count": 55
        }
      ]
    },
    {
      "cell_type": "code",
      "source": [
        "print(\"Shape --> \",rnk_4_tensor.shape,'\\nDimension --> ',rnk_4_tensor.ndim,'\\nTotal number of elements --> ',tf.size(rnk_4_tensor).numpy(),\"\\nDatatype --> \",rnk_4_tensor.dtype)"
      ],
      "metadata": {
        "colab": {
          "base_uri": "https://localhost:8080/"
        },
        "id": "-nnnNo-6QQLT",
        "outputId": "6f98537f-fc10-41bd-b9ae-8701d730f8d5"
      },
      "execution_count": null,
      "outputs": [
        {
          "output_type": "stream",
          "name": "stdout",
          "text": [
            "Shape -->  (2, 3, 4, 5) \n",
            "Dimension -->  4 \n",
            "Total number of elements -->  120 \n",
            "Datatype -->  <dtype: 'float32'>\n"
          ]
        }
      ]
    },
    {
      "cell_type": "markdown",
      "source": [
        "### Indexing Tensors\n",
        "Tensors can also be indexed similar to python lists"
      ],
      "metadata": {
        "id": "eYJpkw4KSmxn"
      }
    },
    {
      "cell_type": "code",
      "source": [
        "# Get to first to elements in each dimension\n",
        "rnk_4_tensor[:2,:2,:2,:2]"
      ],
      "metadata": {
        "colab": {
          "base_uri": "https://localhost:8080/"
        },
        "id": "3Pb-UvQ8RgR7",
        "outputId": "ddc55f01-f252-4208-b924-a0e950939aac"
      },
      "execution_count": null,
      "outputs": [
        {
          "output_type": "execute_result",
          "data": {
            "text/plain": [
              "<tf.Tensor: shape=(2, 2, 2, 2), dtype=float32, numpy=\n",
              "array([[[[0., 0.],\n",
              "         [0., 0.]],\n",
              "\n",
              "        [[0., 0.],\n",
              "         [0., 0.]]],\n",
              "\n",
              "\n",
              "       [[[0., 0.],\n",
              "         [0., 0.]],\n",
              "\n",
              "        [[0., 0.],\n",
              "         [0., 0.]]]], dtype=float32)>"
            ]
          },
          "metadata": {},
          "execution_count": 88
        }
      ]
    },
    {
      "cell_type": "markdown",
      "source": [
        "## Changing or adding an extra dimension to a sensor"
      ],
      "metadata": {
        "id": "i0LbKtHlVCcS"
      }
    },
    {
      "cell_type": "code",
      "source": [
        "# Create a 2-dim tensor\n",
        "rank_2_numpy = np.zeros(shape=(2,2))\n",
        "rank_2_numpy\n",
        "rank_2_tensor = tf.constant(rank_2_numpy)\n",
        "rank_2_tensor"
      ],
      "metadata": {
        "colab": {
          "base_uri": "https://localhost:8080/"
        },
        "id": "T05fEkGBS0p0",
        "outputId": "93e80796-793d-4dbc-95eb-3ef44d37b77c"
      },
      "execution_count": null,
      "outputs": [
        {
          "output_type": "execute_result",
          "data": {
            "text/plain": [
              "<tf.Tensor: shape=(2, 2), dtype=float64, numpy=\n",
              "array([[0., 0.],\n",
              "       [0., 0.]])>"
            ]
          },
          "metadata": {},
          "execution_count": 92
        }
      ]
    },
    {
      "cell_type": "code",
      "source": [
        "# Adding an extra dimension\n",
        "modified_tensor = rank_2_tensor[...,tf.newaxis] # ... represents every axis before last one, it is a replacement of : model\n",
        "modified_tensor"
      ],
      "metadata": {
        "colab": {
          "base_uri": "https://localhost:8080/"
        },
        "id": "gxDH4_pgVZNc",
        "outputId": "5482364d-bc23-4d7f-c3f5-7f30707451c6"
      },
      "execution_count": null,
      "outputs": [
        {
          "output_type": "execute_result",
          "data": {
            "text/plain": [
              "<tf.Tensor: shape=(2, 2, 1), dtype=float64, numpy=\n",
              "array([[[0.],\n",
              "        [0.]],\n",
              "\n",
              "       [[0.],\n",
              "        [0.]]])>"
            ]
          },
          "metadata": {},
          "execution_count": 93
        }
      ]
    },
    {
      "cell_type": "code",
      "source": [
        "# Alternative to tf.newaxis\n",
        "tf.expand_dims(rank_2_tensor,axis=-1)"
      ],
      "metadata": {
        "colab": {
          "base_uri": "https://localhost:8080/"
        },
        "id": "7fA_5ltEWJ2F",
        "outputId": "5b1770e6-7aa1-42b6-e258-c43b7c85dc10"
      },
      "execution_count": null,
      "outputs": [
        {
          "output_type": "execute_result",
          "data": {
            "text/plain": [
              "<tf.Tensor: shape=(2, 2, 1), dtype=float64, numpy=\n",
              "array([[[0.],\n",
              "        [0.]],\n",
              "\n",
              "       [[0.],\n",
              "        [0.]]])>"
            ]
          },
          "metadata": {},
          "execution_count": 94
        }
      ]
    },
    {
      "cell_type": "code",
      "source": [
        "# Alternative to tf.newaxis\n",
        "tf.expand_dims(rank_2_tensor,axis=0)"
      ],
      "metadata": {
        "colab": {
          "base_uri": "https://localhost:8080/"
        },
        "id": "rTWT4oRXWx-E",
        "outputId": "81fb04f2-7107-417a-ab9f-56c1f98671ff"
      },
      "execution_count": null,
      "outputs": [
        {
          "output_type": "execute_result",
          "data": {
            "text/plain": [
              "<tf.Tensor: shape=(1, 2, 2), dtype=float64, numpy=\n",
              "array([[[0., 0.],\n",
              "        [0., 0.]]])>"
            ]
          },
          "metadata": {},
          "execution_count": 95
        }
      ]
    },
    {
      "cell_type": "code",
      "source": [
        "# Alternative to tf.newaxis\n",
        "tf.expand_dims(rank_2_tensor,axis=1)"
      ],
      "metadata": {
        "colab": {
          "base_uri": "https://localhost:8080/"
        },
        "id": "Xpyw_fctW6yF",
        "outputId": "704f8846-75c2-4932-d2bb-af7152781fc5"
      },
      "execution_count": null,
      "outputs": [
        {
          "output_type": "execute_result",
          "data": {
            "text/plain": [
              "<tf.Tensor: shape=(2, 1, 2), dtype=float64, numpy=\n",
              "array([[[0., 0.]],\n",
              "\n",
              "       [[0., 0.]]])>"
            ]
          },
          "metadata": {},
          "execution_count": 96
        }
      ]
    },
    {
      "cell_type": "markdown",
      "source": [
        "### Manipulation of Tensors ( Tensor Operations)\n",
        "** Basic Operation **\n",
        "\n",
        "=,-,*,/"
      ],
      "metadata": {
        "id": "NzIvWnvzXKAl"
      }
    },
    {
      "cell_type": "code",
      "source": [
        "tensor = tf.constant([[10,7],[3,4]])\n",
        "print(\"Add \",tensor + 10)\n",
        "print(\"Sub \",tensor - 10)\n",
        "print(\"Mul \",tensor * 10)\n",
        "print(\"Div \",tensor / 10)\n",
        "print(\"Non float div \",tensor // 10)"
      ],
      "metadata": {
        "colab": {
          "base_uri": "https://localhost:8080/"
        },
        "id": "fOIsXjcmXBzM",
        "outputId": "a48d88d3-eda1-4f55-8d23-b8941ba9932a"
      },
      "execution_count": null,
      "outputs": [
        {
          "output_type": "stream",
          "name": "stdout",
          "text": [
            "Add  tf.Tensor(\n",
            "[[20 17]\n",
            " [13 14]], shape=(2, 2), dtype=int32)\n",
            "Sub  tf.Tensor(\n",
            "[[ 0 -3]\n",
            " [-7 -6]], shape=(2, 2), dtype=int32)\n",
            "Mul  tf.Tensor(\n",
            "[[100  70]\n",
            " [ 30  40]], shape=(2, 2), dtype=int32)\n",
            "Div  tf.Tensor(\n",
            "[[1.  0.7]\n",
            " [0.3 0.4]], shape=(2, 2), dtype=float64)\n",
            "Non float div  tf.Tensor(\n",
            "[[1 0]\n",
            " [0 0]], shape=(2, 2), dtype=int32)\n"
          ]
        }
      ]
    },
    {
      "cell_type": "code",
      "source": [
        "# We can use Tensorflow built-in function\n",
        "tf.multiply(tensor,10)"
      ],
      "metadata": {
        "colab": {
          "base_uri": "https://localhost:8080/"
        },
        "id": "7YTT4xVDXq79",
        "outputId": "54e0c01d-9d35-4e26-f066-a2925f329bf1"
      },
      "execution_count": null,
      "outputs": [
        {
          "output_type": "execute_result",
          "data": {
            "text/plain": [
              "<tf.Tensor: shape=(2, 2), dtype=int32, numpy=\n",
              "array([[100,  70],\n",
              "       [ 30,  40]], dtype=int32)>"
            ]
          },
          "metadata": {},
          "execution_count": 100
        }
      ]
    },
    {
      "cell_type": "code",
      "source": [],
      "metadata": {
        "id": "QiEaS8xOYHy1"
      },
      "execution_count": null,
      "outputs": []
    }
  ]
}