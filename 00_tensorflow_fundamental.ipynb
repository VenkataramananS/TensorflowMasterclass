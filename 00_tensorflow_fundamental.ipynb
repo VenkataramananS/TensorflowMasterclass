{
  "nbformat": 4,
  "nbformat_minor": 0,
  "metadata": {
    "colab": {
      "provenance": [],
      "authorship_tag": "ABX9TyPiFFtelcZC8anOc20BUb/c",
      "include_colab_link": true
    },
    "kernelspec": {
      "name": "python3",
      "display_name": "Python 3"
    },
    "language_info": {
      "name": "python"
    }
  },
  "cells": [
    {
      "cell_type": "markdown",
      "metadata": {
        "id": "view-in-github",
        "colab_type": "text"
      },
      "source": [
        "<a href=\"https://colab.research.google.com/github/VenkataramananS/TensorflowMasterclass/blob/main/00_tensorflow_fundamental.ipynb\" target=\"_parent\"><img src=\"https://colab.research.google.com/assets/colab-badge.svg\" alt=\"Open In Colab\"/></a>"
      ]
    },
    {
      "cell_type": "markdown",
      "source": [
        "most fundamental concepts of tensor using tensorflow.\n",
        "\n",
        "Topics covered:\n",
        "\n",
        "\n",
        "1.   Introduction to tensors\n",
        "2.   Getting more info from tensors\n",
        "3.   Manipulating tensors\n",
        "4.   Tensors and Numpy5. Using tf.dunction ( a way to speed up regular        python functions)\n",
        "6.   Using GPUs with tensorflow or (TPUs) \n",
        "7.   Exercises"
      ],
      "metadata": {
        "id": "1W8MAS-F9mix"
      }
    },
    {
      "cell_type": "markdown",
      "source": [
        "## Introduction to Tensors"
      ],
      "metadata": {
        "id": "PRbhx5gO95zZ"
      }
    },
    {
      "cell_type": "code",
      "source": [
        "# Import Tensorflow\n",
        "import tensorflow as tf\n",
        "print(tf.__version__)"
      ],
      "metadata": {
        "colab": {
          "base_uri": "https://localhost:8080/"
        },
        "id": "olhx33dWA0eH",
        "outputId": "99a65d46-048d-477d-b122-82962e0a74b9"
      },
      "execution_count": 1,
      "outputs": [
        {
          "output_type": "stream",
          "name": "stdout",
          "text": [
            "2.9.2\n"
          ]
        }
      ]
    },
    {
      "cell_type": "code",
      "source": [
        "# Create tensors with tf.constants()\n",
        "scalar = tf.constant(7)\n",
        "scalar"
      ],
      "metadata": {
        "colab": {
          "base_uri": "https://localhost:8080/"
        },
        "id": "lkcf_B03A4G5",
        "outputId": "ba69976f-737a-42ac-8e73-49ffb73f5e80"
      },
      "execution_count": 2,
      "outputs": [
        {
          "output_type": "execute_result",
          "data": {
            "text/plain": [
              "<tf.Tensor: shape=(), dtype=int32, numpy=7>"
            ]
          },
          "metadata": {},
          "execution_count": 2
        }
      ]
    },
    {
      "cell_type": "code",
      "source": [
        "# Check number of dimensions in Tensor (ndim stands number of dimensions)\n",
        "scalar.ndim"
      ],
      "metadata": {
        "colab": {
          "base_uri": "https://localhost:8080/"
        },
        "id": "SPO-inMiBY38",
        "outputId": "163303ff-51e6-4c3c-8e27-db12b8b1b0df"
      },
      "execution_count": 3,
      "outputs": [
        {
          "output_type": "execute_result",
          "data": {
            "text/plain": [
              "0"
            ]
          },
          "metadata": {},
          "execution_count": 3
        }
      ]
    },
    {
      "cell_type": "code",
      "source": [
        "# Create a vector\n",
        "vector = tf.constant([10,10])\n",
        "vector"
      ],
      "metadata": {
        "colab": {
          "base_uri": "https://localhost:8080/"
        },
        "id": "jVInsM0DCHMa",
        "outputId": "89b1d38a-cdc7-4dce-89c6-01287fdf9d32"
      },
      "execution_count": 4,
      "outputs": [
        {
          "output_type": "execute_result",
          "data": {
            "text/plain": [
              "<tf.Tensor: shape=(2,), dtype=int32, numpy=array([10, 10], dtype=int32)>"
            ]
          },
          "metadata": {},
          "execution_count": 4
        }
      ]
    },
    {
      "cell_type": "code",
      "source": [
        "# Check the dimension of a vector\n",
        "vector.ndim"
      ],
      "metadata": {
        "colab": {
          "base_uri": "https://localhost:8080/"
        },
        "id": "ge4JpSxbCPgg",
        "outputId": "40eb524b-9205-4f95-d912-769dd6742e83"
      },
      "execution_count": 5,
      "outputs": [
        {
          "output_type": "execute_result",
          "data": {
            "text/plain": [
              "1"
            ]
          },
          "metadata": {},
          "execution_count": 5
        }
      ]
    },
    {
      "cell_type": "code",
      "source": [
        "# Create a matrix (more than 1 dimension)\n",
        "matrix = tf.constant([[10,7],[7,10]])\n",
        "matrix"
      ],
      "metadata": {
        "colab": {
          "base_uri": "https://localhost:8080/"
        },
        "id": "XeDJ8l6SCcdg",
        "outputId": "35b6b8ee-0cff-4fbd-fbc7-92b54808b68b"
      },
      "execution_count": 6,
      "outputs": [
        {
          "output_type": "execute_result",
          "data": {
            "text/plain": [
              "<tf.Tensor: shape=(2, 2), dtype=int32, numpy=\n",
              "array([[10,  7],\n",
              "       [ 7, 10]], dtype=int32)>"
            ]
          },
          "metadata": {},
          "execution_count": 6
        }
      ]
    },
    {
      "cell_type": "code",
      "source": [
        "# Check the dimension of a matrix\n",
        "matrix.ndim"
      ],
      "metadata": {
        "colab": {
          "base_uri": "https://localhost:8080/"
        },
        "id": "3SlW6LGmC_0C",
        "outputId": "351bf408-62e6-4197-d155-7c1afceea384"
      },
      "execution_count": 7,
      "outputs": [
        {
          "output_type": "execute_result",
          "data": {
            "text/plain": [
              "2"
            ]
          },
          "metadata": {},
          "execution_count": 7
        }
      ]
    },
    {
      "cell_type": "code",
      "source": [
        "# Create a tensor\n",
        "tensor = tf.constant([[[1,2,3],\n",
        "                        [4,5,6]],\n",
        "                       [[7,8,9],\n",
        "                        [10,11,12]],\n",
        "                       [[13,14,15],\n",
        "                        [16,17,18]]\n",
        "                       ])\n",
        "tensor"
      ],
      "metadata": {
        "colab": {
          "base_uri": "https://localhost:8080/"
        },
        "id": "2A9nFcuODH2R",
        "outputId": "a99a6824-2c9c-46e2-bdfa-a14ab3e0b177"
      },
      "execution_count": 8,
      "outputs": [
        {
          "output_type": "execute_result",
          "data": {
            "text/plain": [
              "<tf.Tensor: shape=(3, 2, 3), dtype=int32, numpy=\n",
              "array([[[ 1,  2,  3],\n",
              "        [ 4,  5,  6]],\n",
              "\n",
              "       [[ 7,  8,  9],\n",
              "        [10, 11, 12]],\n",
              "\n",
              "       [[13, 14, 15],\n",
              "        [16, 17, 18]]], dtype=int32)>"
            ]
          },
          "metadata": {},
          "execution_count": 8
        }
      ]
    },
    {
      "cell_type": "code",
      "source": [
        "# Check the dimension of a tensor\n",
        "tensor.ndim"
      ],
      "metadata": {
        "colab": {
          "base_uri": "https://localhost:8080/"
        },
        "id": "YZC7InFAEe36",
        "outputId": "737937c1-002e-48b6-f2ce-a2b9154f3ec1"
      },
      "execution_count": 9,
      "outputs": [
        {
          "output_type": "execute_result",
          "data": {
            "text/plain": [
              "3"
            ]
          },
          "metadata": {},
          "execution_count": 9
        }
      ]
    },
    {
      "cell_type": "markdown",
      "source": [
        "### Creating variables with tf.Variable"
      ],
      "metadata": {
        "id": "JJ9D39AdA9SY"
      }
    },
    {
      "cell_type": "code",
      "source": [
        "# Create same tensor with tf.Variable() as above\n",
        "variable_tensor = tf.Variable([10,7])\n",
        "constant_tensor = tf.constant([10,7])\n",
        "variable_tensor,constant_tensor"
      ],
      "metadata": {
        "id": "0r1b4Jh3Evr6",
        "colab": {
          "base_uri": "https://localhost:8080/"
        },
        "outputId": "c66f2453-7625-4009-8299-7901f5fbd60a"
      },
      "execution_count": 10,
      "outputs": [
        {
          "output_type": "execute_result",
          "data": {
            "text/plain": [
              "(<tf.Variable 'Variable:0' shape=(2,) dtype=int32, numpy=array([10,  7], dtype=int32)>,\n",
              " <tf.Tensor: shape=(2,), dtype=int32, numpy=array([10,  7], dtype=int32)>)"
            ]
          },
          "metadata": {},
          "execution_count": 10
        }
      ]
    },
    {
      "cell_type": "code",
      "source": [
        "# Let's try to change one of the element in the variable tensor\n",
        "variable_tensor[0] = 7\n",
        "variable_tensor"
      ],
      "metadata": {
        "colab": {
          "base_uri": "https://localhost:8080/",
          "height": 200
        },
        "id": "69J5Mj5pBjst",
        "outputId": "fbf667c9-002a-48f9-fc25-b568502c1bf5"
      },
      "execution_count": 11,
      "outputs": [
        {
          "output_type": "error",
          "ename": "TypeError",
          "evalue": "ignored",
          "traceback": [
            "\u001b[0;31m---------------------------------------------------------------------------\u001b[0m",
            "\u001b[0;31mTypeError\u001b[0m                                 Traceback (most recent call last)",
            "\u001b[0;32m<ipython-input-11-58bb30fc7714>\u001b[0m in \u001b[0;36m<module>\u001b[0;34m\u001b[0m\n\u001b[1;32m      1\u001b[0m \u001b[0;31m# Let's try to change one of the element in the variable tensor\u001b[0m\u001b[0;34m\u001b[0m\u001b[0;34m\u001b[0m\u001b[0;34m\u001b[0m\u001b[0m\n\u001b[0;32m----> 2\u001b[0;31m \u001b[0mvariable_tensor\u001b[0m\u001b[0;34m[\u001b[0m\u001b[0;36m0\u001b[0m\u001b[0;34m]\u001b[0m \u001b[0;34m=\u001b[0m \u001b[0;36m7\u001b[0m\u001b[0;34m\u001b[0m\u001b[0;34m\u001b[0m\u001b[0m\n\u001b[0m\u001b[1;32m      3\u001b[0m \u001b[0mvariable_tensor\u001b[0m\u001b[0;34m\u001b[0m\u001b[0;34m\u001b[0m\u001b[0m\n",
            "\u001b[0;31mTypeError\u001b[0m: 'ResourceVariable' object does not support item assignment"
          ]
        }
      ]
    },
    {
      "cell_type": "code",
      "source": [
        "# now replacing value using .assign() function\n",
        "variable_tensor[0].assign(7)\n",
        "variable_tensor"
      ],
      "metadata": {
        "colab": {
          "base_uri": "https://localhost:8080/"
        },
        "id": "KdSl-ztcB8K1",
        "outputId": "2528d47c-3eb6-4714-b215-3d00770b45e7"
      },
      "execution_count": 12,
      "outputs": [
        {
          "output_type": "execute_result",
          "data": {
            "text/plain": [
              "<tf.Variable 'Variable:0' shape=(2,) dtype=int32, numpy=array([7, 7], dtype=int32)>"
            ]
          },
          "metadata": {},
          "execution_count": 12
        }
      ]
    },
    {
      "cell_type": "code",
      "source": [
        "# now trying the same in the constant tensor\n",
        "constant_tensor[0].assign(7)"
      ],
      "metadata": {
        "colab": {
          "base_uri": "https://localhost:8080/",
          "height": 304
        },
        "id": "SeKTxSD1CHAI",
        "outputId": "d2aa297c-5ff3-49c0-f525-f0749a452d89"
      },
      "execution_count": 13,
      "outputs": [
        {
          "output_type": "error",
          "ename": "AttributeError",
          "evalue": "ignored",
          "traceback": [
            "\u001b[0;31m---------------------------------------------------------------------------\u001b[0m",
            "\u001b[0;31mAttributeError\u001b[0m                            Traceback (most recent call last)",
            "\u001b[0;32m<ipython-input-13-f82f569b5d04>\u001b[0m in \u001b[0;36m<module>\u001b[0;34m\u001b[0m\n\u001b[1;32m      1\u001b[0m \u001b[0;31m# now trying the same in the constant tensor\u001b[0m\u001b[0;34m\u001b[0m\u001b[0;34m\u001b[0m\u001b[0;34m\u001b[0m\u001b[0m\n\u001b[0;32m----> 2\u001b[0;31m \u001b[0mconstant_tensor\u001b[0m\u001b[0;34m[\u001b[0m\u001b[0;36m0\u001b[0m\u001b[0;34m]\u001b[0m\u001b[0;34m.\u001b[0m\u001b[0massign\u001b[0m\u001b[0;34m(\u001b[0m\u001b[0;36m7\u001b[0m\u001b[0;34m)\u001b[0m\u001b[0;34m\u001b[0m\u001b[0;34m\u001b[0m\u001b[0m\n\u001b[0m",
            "\u001b[0;32m/usr/local/lib/python3.8/dist-packages/tensorflow/python/framework/ops.py\u001b[0m in \u001b[0;36m__getattr__\u001b[0;34m(self, name)\u001b[0m\n\u001b[1;32m    444\u001b[0m         \u001b[0mnp_config\u001b[0m\u001b[0;34m.\u001b[0m\u001b[0menable_numpy_behavior\u001b[0m\u001b[0;34m(\u001b[0m\u001b[0;34m)\u001b[0m\u001b[0;34m\u001b[0m\u001b[0;34m\u001b[0m\u001b[0m\n\u001b[1;32m    445\u001b[0m       \"\"\")\n\u001b[0;32m--> 446\u001b[0;31m     \u001b[0mself\u001b[0m\u001b[0;34m.\u001b[0m\u001b[0m__getattribute__\u001b[0m\u001b[0;34m(\u001b[0m\u001b[0mname\u001b[0m\u001b[0;34m)\u001b[0m\u001b[0;34m\u001b[0m\u001b[0;34m\u001b[0m\u001b[0m\n\u001b[0m\u001b[1;32m    447\u001b[0m \u001b[0;34m\u001b[0m\u001b[0m\n\u001b[1;32m    448\u001b[0m   \u001b[0;34m@\u001b[0m\u001b[0mstaticmethod\u001b[0m\u001b[0;34m\u001b[0m\u001b[0;34m\u001b[0m\u001b[0m\n",
            "\u001b[0;31mAttributeError\u001b[0m: 'tensorflow.python.framework.ops.EagerTensor' object has no attribute 'assign'"
          ]
        }
      ]
    },
    {
      "cell_type": "markdown",
      "source": [
        "### Creation of random tensors"
      ],
      "metadata": {
        "id": "N2zHIP_uDxV3"
      }
    },
    {
      "cell_type": "code",
      "source": [
        "# Create two tensors (but the same)\n",
        "r1 = tf.random.Generator.from_seed(10)\n",
        "r1 = r1.normal(shape=(3,2))\n",
        "r2 = tf.random.Generator.from_seed(10)\n",
        "r2 = r2.normal(shape=(3,2))\n",
        "\n",
        "# Are they same?\n",
        "r1,r2,r1==r2"
      ],
      "metadata": {
        "id": "FLosEA2DCQKo",
        "colab": {
          "base_uri": "https://localhost:8080/"
        },
        "outputId": "4c016309-5cd4-486c-d052-79b007adc047"
      },
      "execution_count": 14,
      "outputs": [
        {
          "output_type": "execute_result",
          "data": {
            "text/plain": [
              "(<tf.Tensor: shape=(3, 2), dtype=float32, numpy=\n",
              " array([[-0.29604465, -0.21134205],\n",
              "        [ 0.01063002,  1.5165398 ],\n",
              "        [ 0.27305737, -0.29925638]], dtype=float32)>,\n",
              " <tf.Tensor: shape=(3, 2), dtype=float32, numpy=\n",
              " array([[-0.29604465, -0.21134205],\n",
              "        [ 0.01063002,  1.5165398 ],\n",
              "        [ 0.27305737, -0.29925638]], dtype=float32)>,\n",
              " <tf.Tensor: shape=(3, 2), dtype=bool, numpy=\n",
              " array([[ True,  True],\n",
              "        [ True,  True],\n",
              "        [ True,  True]])>)"
            ]
          },
          "metadata": {},
          "execution_count": 14
        }
      ]
    },
    {
      "cell_type": "markdown",
      "source": [
        "### Shuffle the order of elements in tensor"
      ],
      "metadata": {
        "id": "P9hTAfOhEerO"
      }
    },
    {
      "cell_type": "code",
      "source": [
        "# Shuffle a tensor\n",
        "unshuffled = tf.constant([[[10,7,6],[2,5,3],[1,4,9]],[[20,17,16],[12,15,13],[11,14,19]],[[30,27,26],[22,25,23],[21,24,29]]])\n",
        "unshuffled.ndim,unshuffled"
      ],
      "metadata": {
        "id": "2ZRVMKY8EO8B",
        "colab": {
          "base_uri": "https://localhost:8080/"
        },
        "outputId": "1c6065a0-8913-48de-83d3-23bce357ae27"
      },
      "execution_count": 15,
      "outputs": [
        {
          "output_type": "execute_result",
          "data": {
            "text/plain": [
              "(3, <tf.Tensor: shape=(3, 3, 3), dtype=int32, numpy=\n",
              " array([[[10,  7,  6],\n",
              "         [ 2,  5,  3],\n",
              "         [ 1,  4,  9]],\n",
              " \n",
              "        [[20, 17, 16],\n",
              "         [12, 15, 13],\n",
              "         [11, 14, 19]],\n",
              " \n",
              "        [[30, 27, 26],\n",
              "         [22, 25, 23],\n",
              "         [21, 24, 29]]], dtype=int32)>)"
            ]
          },
          "metadata": {},
          "execution_count": 15
        }
      ]
    },
    {
      "cell_type": "code",
      "source": [
        "tf.random.shuffle(unshuffled)"
      ],
      "metadata": {
        "colab": {
          "base_uri": "https://localhost:8080/"
        },
        "id": "bMPnFrpJFpXI",
        "outputId": "4156344e-5158-44fc-bd53-9f1022bb6566"
      },
      "execution_count": 16,
      "outputs": [
        {
          "output_type": "execute_result",
          "data": {
            "text/plain": [
              "<tf.Tensor: shape=(3, 3, 3), dtype=int32, numpy=\n",
              "array([[[20, 17, 16],\n",
              "        [12, 15, 13],\n",
              "        [11, 14, 19]],\n",
              "\n",
              "       [[30, 27, 26],\n",
              "        [22, 25, 23],\n",
              "        [21, 24, 29]],\n",
              "\n",
              "       [[10,  7,  6],\n",
              "        [ 2,  5,  3],\n",
              "        [ 1,  4,  9]]], dtype=int32)>"
            ]
          },
          "metadata": {},
          "execution_count": 16
        }
      ]
    },
    {
      "cell_type": "markdown",
      "source": [
        "### Home Work Exercise\n",
        "read -> https://www.tensorflow.org/api_docs/python/tf/random/set_seed\n",
        "\n",
        "Create 5 random tensors and shuffle them"
      ],
      "metadata": {
        "id": "BZgCdavkIngh"
      }
    },
    {
      "cell_type": "code",
      "source": [
        "rv1 = tf.constant([[1,7],[2,8]])\n",
        "print(rv1.ndim)\n",
        "print(\"Same Seed \",tf.random.shuffle(rv1,seed = 9))\n",
        "print(\"Same Seed \",tf.random.shuffle(rv1,seed = 9))\n",
        "print(\"Different Seed \",tf.random.shuffle(rv1,seed = 6))"
      ],
      "metadata": {
        "colab": {
          "base_uri": "https://localhost:8080/"
        },
        "id": "rP6SCJeuFLBQ",
        "outputId": "e5302a29-8da3-4f1b-94e8-e135524f80bc"
      },
      "execution_count": 17,
      "outputs": [
        {
          "output_type": "stream",
          "name": "stdout",
          "text": [
            "2\n",
            "Same Seed  tf.Tensor(\n",
            "[[2 8]\n",
            " [1 7]], shape=(2, 2), dtype=int32)\n",
            "Same Seed  tf.Tensor(\n",
            "[[2 8]\n",
            " [1 7]], shape=(2, 2), dtype=int32)\n",
            "Different Seed  tf.Tensor(\n",
            "[[1 7]\n",
            " [2 8]], shape=(2, 2), dtype=int32)\n"
          ]
        }
      ]
    },
    {
      "cell_type": "code",
      "source": [
        "rv2 = tf.constant([[1,7],[2,8],[3,9]])\n",
        "print(rv2.ndim)\n",
        "print(\"Same Seed \",tf.random.shuffle(rv2,seed = 9))\n",
        "print(\"Same Seed \",tf.random.shuffle(rv2,seed = 9))\n",
        "print(\"Different Seed \",tf.random.shuffle(rv2,seed = 6))"
      ],
      "metadata": {
        "colab": {
          "base_uri": "https://localhost:8080/"
        },
        "id": "_ZG9pfPvFTkY",
        "outputId": "e317b144-037b-4e62-f308-c730eee1c20e"
      },
      "execution_count": 18,
      "outputs": [
        {
          "output_type": "stream",
          "name": "stdout",
          "text": [
            "2\n",
            "Same Seed  tf.Tensor(\n",
            "[[2 8]\n",
            " [1 7]\n",
            " [3 9]], shape=(3, 2), dtype=int32)\n",
            "Same Seed  tf.Tensor(\n",
            "[[3 9]\n",
            " [2 8]\n",
            " [1 7]], shape=(3, 2), dtype=int32)\n",
            "Different Seed  tf.Tensor(\n",
            "[[3 9]\n",
            " [2 8]\n",
            " [1 7]], shape=(3, 2), dtype=int32)\n"
          ]
        }
      ]
    },
    {
      "cell_type": "code",
      "source": [
        "rv3 = tf.constant([[[1,7]],[[2,8]],[[3,9]]])\n",
        "print(rv3.ndim)\n",
        "print(\"Same Seed \",tf.random.shuffle(rv3,seed = 9))\n",
        "print(\"Same Seed \",tf.random.shuffle(rv3,seed = 9))\n",
        "print(\"Different Seed \",tf.random.shuffle(rv3,seed = 6))"
      ],
      "metadata": {
        "colab": {
          "base_uri": "https://localhost:8080/"
        },
        "id": "sUqHd21uJBi5",
        "outputId": "d56f4fd8-238f-495f-aaea-70a4c9ec6d04"
      },
      "execution_count": 19,
      "outputs": [
        {
          "output_type": "stream",
          "name": "stdout",
          "text": [
            "3\n",
            "Same Seed  tf.Tensor(\n",
            "[[[1 7]]\n",
            "\n",
            " [[2 8]]\n",
            "\n",
            " [[3 9]]], shape=(3, 1, 2), dtype=int32)\n",
            "Same Seed  tf.Tensor(\n",
            "[[[3 9]]\n",
            "\n",
            " [[2 8]]\n",
            "\n",
            " [[1 7]]], shape=(3, 1, 2), dtype=int32)\n",
            "Different Seed  tf.Tensor(\n",
            "[[[2 8]]\n",
            "\n",
            " [[1 7]]\n",
            "\n",
            " [[3 9]]], shape=(3, 1, 2), dtype=int32)\n"
          ]
        }
      ]
    },
    {
      "cell_type": "code",
      "source": [
        "rv4 = tf.constant([[[1,7],[11,17]],[[2,8],[12,18]],[[3,9],[13,19]]])\n",
        "print(rv4.ndim)\n",
        "print(\"Same Seed \",tf.random.shuffle(rv4,seed = 9))\n",
        "print(\"Same Seed \",tf.random.shuffle(rv4,seed = 9))\n",
        "print(\"Different Seed \",tf.random.shuffle(rv4,seed = 6))"
      ],
      "metadata": {
        "colab": {
          "base_uri": "https://localhost:8080/"
        },
        "id": "TC2lFu_aJqgZ",
        "outputId": "ebd4cad2-d52e-4263-e56a-15681a574cb6"
      },
      "execution_count": 20,
      "outputs": [
        {
          "output_type": "stream",
          "name": "stdout",
          "text": [
            "3\n",
            "Same Seed  tf.Tensor(\n",
            "[[[ 1  7]\n",
            "  [11 17]]\n",
            "\n",
            " [[ 3  9]\n",
            "  [13 19]]\n",
            "\n",
            " [[ 2  8]\n",
            "  [12 18]]], shape=(3, 2, 2), dtype=int32)\n",
            "Same Seed  tf.Tensor(\n",
            "[[[ 1  7]\n",
            "  [11 17]]\n",
            "\n",
            " [[ 2  8]\n",
            "  [12 18]]\n",
            "\n",
            " [[ 3  9]\n",
            "  [13 19]]], shape=(3, 2, 2), dtype=int32)\n",
            "Different Seed  tf.Tensor(\n",
            "[[[ 1  7]\n",
            "  [11 17]]\n",
            "\n",
            " [[ 2  8]\n",
            "  [12 18]]\n",
            "\n",
            " [[ 3  9]\n",
            "  [13 19]]], shape=(3, 2, 2), dtype=int32)\n"
          ]
        }
      ]
    },
    {
      "cell_type": "code",
      "source": [
        "rv5 = tf.constant([[[1,7,-1],[11,17,-11]],[[2,8,-2],[12,18,-12]],[[3,9,-3],[13,19,-13]]])\n",
        "print(rv5.ndim)\n",
        "print(\"Same Seed \",tf.random.shuffle(rv5,seed = 9))\n",
        "print(\"Same Seed \",tf.random.shuffle(rv5,seed = 9))\n",
        "print(\"Different Seed \",tf.random.shuffle(rv5,seed = 6))"
      ],
      "metadata": {
        "colab": {
          "base_uri": "https://localhost:8080/"
        },
        "id": "Nkfk3Bl7Kf-I",
        "outputId": "88c77668-bd88-43d3-da3f-27979c04202a"
      },
      "execution_count": 21,
      "outputs": [
        {
          "output_type": "stream",
          "name": "stdout",
          "text": [
            "3\n",
            "Same Seed  tf.Tensor(\n",
            "[[[  3   9  -3]\n",
            "  [ 13  19 -13]]\n",
            "\n",
            " [[  2   8  -2]\n",
            "  [ 12  18 -12]]\n",
            "\n",
            " [[  1   7  -1]\n",
            "  [ 11  17 -11]]], shape=(3, 2, 3), dtype=int32)\n",
            "Same Seed  tf.Tensor(\n",
            "[[[  1   7  -1]\n",
            "  [ 11  17 -11]]\n",
            "\n",
            " [[  2   8  -2]\n",
            "  [ 12  18 -12]]\n",
            "\n",
            " [[  3   9  -3]\n",
            "  [ 13  19 -13]]], shape=(3, 2, 3), dtype=int32)\n",
            "Different Seed  tf.Tensor(\n",
            "[[[  3   9  -3]\n",
            "  [ 13  19 -13]]\n",
            "\n",
            " [[  1   7  -1]\n",
            "  [ 11  17 -11]]\n",
            "\n",
            " [[  2   8  -2]\n",
            "  [ 12  18 -12]]], shape=(3, 2, 3), dtype=int32)\n"
          ]
        }
      ]
    },
    {
      "cell_type": "markdown",
      "source": [
        "### Other ways to make tensors"
      ],
      "metadata": {
        "id": "vFZXv--AMDqj"
      }
    },
    {
      "cell_type": "code",
      "source": [
        "# Create a tensor of all ones\n",
        "tf.ones([3,4], tf.int32)"
      ],
      "metadata": {
        "colab": {
          "base_uri": "https://localhost:8080/"
        },
        "id": "5Onuh3QmKwgx",
        "outputId": "eed14384-3f54-49b5-8fb8-49f645dbc94e"
      },
      "execution_count": 22,
      "outputs": [
        {
          "output_type": "execute_result",
          "data": {
            "text/plain": [
              "<tf.Tensor: shape=(3, 4), dtype=int32, numpy=\n",
              "array([[1, 1, 1, 1],\n",
              "       [1, 1, 1, 1],\n",
              "       [1, 1, 1, 1]], dtype=int32)>"
            ]
          },
          "metadata": {},
          "execution_count": 22
        }
      ]
    },
    {
      "cell_type": "code",
      "source": [
        "# Create a tensor of all zeros\n",
        "tf.zeros(shape=(3,4))"
      ],
      "metadata": {
        "colab": {
          "base_uri": "https://localhost:8080/"
        },
        "id": "01hPj8vcMBiJ",
        "outputId": "e3740723-cad1-471c-a781-1cf92c7d67a8"
      },
      "execution_count": 23,
      "outputs": [
        {
          "output_type": "execute_result",
          "data": {
            "text/plain": [
              "<tf.Tensor: shape=(3, 4), dtype=float32, numpy=\n",
              "array([[0., 0., 0., 0.],\n",
              "       [0., 0., 0., 0.],\n",
              "       [0., 0., 0., 0.]], dtype=float32)>"
            ]
          },
          "metadata": {},
          "execution_count": 23
        }
      ]
    },
    {
      "cell_type": "markdown",
      "source": [
        "# Turning numpy arrays into tensors\n",
        "\n",
        "The main difference between Numpy and a tensor is that Tensor uses GPU to run whereas numpy uses the CPU"
      ],
      "metadata": {
        "id": "l6DGYRApMfDL"
      }
    },
    {
      "cell_type": "code",
      "source": [
        "import numpy as np"
      ],
      "metadata": {
        "id": "TXEHmcFFMUzK"
      },
      "execution_count": 24,
      "outputs": []
    },
    {
      "cell_type": "code",
      "source": [
        "numpy_A = np.arange(1,25,dtype=np.int32) # Create numpy array between 1 and 25\n",
        "numpy_A"
      ],
      "metadata": {
        "colab": {
          "base_uri": "https://localhost:8080/"
        },
        "id": "cJHPRJXiMrvy",
        "outputId": "9a9cb78e-1279-4d5a-878c-8a239fa02682"
      },
      "execution_count": 25,
      "outputs": [
        {
          "output_type": "execute_result",
          "data": {
            "text/plain": [
              "array([ 1,  2,  3,  4,  5,  6,  7,  8,  9, 10, 11, 12, 13, 14, 15, 16, 17,\n",
              "       18, 19, 20, 21, 22, 23, 24], dtype=int32)"
            ]
          },
          "metadata": {},
          "execution_count": 25
        }
      ]
    },
    {
      "cell_type": "code",
      "source": [
        "a = tf.constant(numpy_A,shape = (2,3,4)) # cumulative multiplication value of shape should match the total numbers of the numpy array i.e 2*3*4 => 24 == 24(numpy array shape)\n",
        "a"
      ],
      "metadata": {
        "colab": {
          "base_uri": "https://localhost:8080/"
        },
        "id": "yGTXCXvUM2dr",
        "outputId": "a4a1e21a-10c3-460a-8b85-0d9d3f493eab"
      },
      "execution_count": 26,
      "outputs": [
        {
          "output_type": "execute_result",
          "data": {
            "text/plain": [
              "<tf.Tensor: shape=(2, 3, 4), dtype=int32, numpy=\n",
              "array([[[ 1,  2,  3,  4],\n",
              "        [ 5,  6,  7,  8],\n",
              "        [ 9, 10, 11, 12]],\n",
              "\n",
              "       [[13, 14, 15, 16],\n",
              "        [17, 18, 19, 20],\n",
              "        [21, 22, 23, 24]]], dtype=int32)>"
            ]
          },
          "metadata": {},
          "execution_count": 26
        }
      ]
    },
    {
      "cell_type": "markdown",
      "source": [
        "### Getting more information from the tensors\n",
        "\n",
        "When dealing with Tensors\n",
        "\n",
        "\n",
        "1.   Shape\n",
        "2.   Rank\n",
        "3.   Axis or Dimension\n",
        "4.   Size\n",
        "\n"
      ],
      "metadata": {
        "id": "y9AaIbSaOFQK"
      }
    },
    {
      "cell_type": "code",
      "source": [
        "# Create a rank 4 tensor (4 dimension)\n",
        "\n",
        "rnk_4_tensor = tf.zeros(shape=[2,3,4,5])\n",
        "rnk_4_tensor"
      ],
      "metadata": {
        "colab": {
          "base_uri": "https://localhost:8080/"
        },
        "id": "yZsWKwyaNAp0",
        "outputId": "dbf363b2-7bd9-4a48-f95e-f2cc1746b603"
      },
      "execution_count": 27,
      "outputs": [
        {
          "output_type": "execute_result",
          "data": {
            "text/plain": [
              "<tf.Tensor: shape=(2, 3, 4, 5), dtype=float32, numpy=\n",
              "array([[[[0., 0., 0., 0., 0.],\n",
              "         [0., 0., 0., 0., 0.],\n",
              "         [0., 0., 0., 0., 0.],\n",
              "         [0., 0., 0., 0., 0.]],\n",
              "\n",
              "        [[0., 0., 0., 0., 0.],\n",
              "         [0., 0., 0., 0., 0.],\n",
              "         [0., 0., 0., 0., 0.],\n",
              "         [0., 0., 0., 0., 0.]],\n",
              "\n",
              "        [[0., 0., 0., 0., 0.],\n",
              "         [0., 0., 0., 0., 0.],\n",
              "         [0., 0., 0., 0., 0.],\n",
              "         [0., 0., 0., 0., 0.]]],\n",
              "\n",
              "\n",
              "       [[[0., 0., 0., 0., 0.],\n",
              "         [0., 0., 0., 0., 0.],\n",
              "         [0., 0., 0., 0., 0.],\n",
              "         [0., 0., 0., 0., 0.]],\n",
              "\n",
              "        [[0., 0., 0., 0., 0.],\n",
              "         [0., 0., 0., 0., 0.],\n",
              "         [0., 0., 0., 0., 0.],\n",
              "         [0., 0., 0., 0., 0.]],\n",
              "\n",
              "        [[0., 0., 0., 0., 0.],\n",
              "         [0., 0., 0., 0., 0.],\n",
              "         [0., 0., 0., 0., 0.],\n",
              "         [0., 0., 0., 0., 0.]]]], dtype=float32)>"
            ]
          },
          "metadata": {},
          "execution_count": 27
        }
      ]
    },
    {
      "cell_type": "code",
      "source": [
        "print(\"Shape --> \",rnk_4_tensor.shape,'\\nDimension --> ',rnk_4_tensor.ndim,'\\nTotal number of elements --> ',tf.size(rnk_4_tensor).numpy(),\"\\nDatatype --> \",rnk_4_tensor.dtype)"
      ],
      "metadata": {
        "colab": {
          "base_uri": "https://localhost:8080/"
        },
        "id": "-nnnNo-6QQLT",
        "outputId": "3e7f73b5-87b4-4aa6-c6a7-5ce849786d7c"
      },
      "execution_count": 28,
      "outputs": [
        {
          "output_type": "stream",
          "name": "stdout",
          "text": [
            "Shape -->  (2, 3, 4, 5) \n",
            "Dimension -->  4 \n",
            "Total number of elements -->  120 \n",
            "Datatype -->  <dtype: 'float32'>\n"
          ]
        }
      ]
    },
    {
      "cell_type": "markdown",
      "source": [
        "### Indexing Tensors\n",
        "Tensors can also be indexed similar to python lists"
      ],
      "metadata": {
        "id": "eYJpkw4KSmxn"
      }
    },
    {
      "cell_type": "code",
      "source": [
        "# Get to first to elements in each dimension\n",
        "rnk_4_tensor[:2,:2,:2,:2]"
      ],
      "metadata": {
        "colab": {
          "base_uri": "https://localhost:8080/"
        },
        "id": "3Pb-UvQ8RgR7",
        "outputId": "2fd74c7e-d0fa-4def-eddd-15de196eda59"
      },
      "execution_count": 29,
      "outputs": [
        {
          "output_type": "execute_result",
          "data": {
            "text/plain": [
              "<tf.Tensor: shape=(2, 2, 2, 2), dtype=float32, numpy=\n",
              "array([[[[0., 0.],\n",
              "         [0., 0.]],\n",
              "\n",
              "        [[0., 0.],\n",
              "         [0., 0.]]],\n",
              "\n",
              "\n",
              "       [[[0., 0.],\n",
              "         [0., 0.]],\n",
              "\n",
              "        [[0., 0.],\n",
              "         [0., 0.]]]], dtype=float32)>"
            ]
          },
          "metadata": {},
          "execution_count": 29
        }
      ]
    },
    {
      "cell_type": "markdown",
      "source": [
        "## Changing or adding an extra dimension to a sensor"
      ],
      "metadata": {
        "id": "i0LbKtHlVCcS"
      }
    },
    {
      "cell_type": "code",
      "source": [
        "# Create a 2-dim tensor\n",
        "rank_2_numpy = np.zeros(shape=(2,2))\n",
        "rank_2_numpy\n",
        "rank_2_tensor = tf.constant(rank_2_numpy)\n",
        "rank_2_tensor"
      ],
      "metadata": {
        "colab": {
          "base_uri": "https://localhost:8080/"
        },
        "id": "T05fEkGBS0p0",
        "outputId": "d43f254d-6a53-4344-b314-44491933d413"
      },
      "execution_count": 30,
      "outputs": [
        {
          "output_type": "execute_result",
          "data": {
            "text/plain": [
              "<tf.Tensor: shape=(2, 2), dtype=float64, numpy=\n",
              "array([[0., 0.],\n",
              "       [0., 0.]])>"
            ]
          },
          "metadata": {},
          "execution_count": 30
        }
      ]
    },
    {
      "cell_type": "code",
      "source": [
        "# Adding an extra dimension\n",
        "modified_tensor = rank_2_tensor[...,tf.newaxis] # ... represents every axis before last one, it is a replacement of : model\n",
        "modified_tensor"
      ],
      "metadata": {
        "colab": {
          "base_uri": "https://localhost:8080/"
        },
        "id": "gxDH4_pgVZNc",
        "outputId": "047f0e6d-7532-4aaa-94e1-c5406e3dddf7"
      },
      "execution_count": 31,
      "outputs": [
        {
          "output_type": "execute_result",
          "data": {
            "text/plain": [
              "<tf.Tensor: shape=(2, 2, 1), dtype=float64, numpy=\n",
              "array([[[0.],\n",
              "        [0.]],\n",
              "\n",
              "       [[0.],\n",
              "        [0.]]])>"
            ]
          },
          "metadata": {},
          "execution_count": 31
        }
      ]
    },
    {
      "cell_type": "code",
      "source": [
        "# Alternative to tf.newaxis\n",
        "tf.expand_dims(rank_2_tensor,axis=-1)"
      ],
      "metadata": {
        "colab": {
          "base_uri": "https://localhost:8080/"
        },
        "id": "7fA_5ltEWJ2F",
        "outputId": "424c6ccd-cedc-4191-f25a-8856953f7737"
      },
      "execution_count": 32,
      "outputs": [
        {
          "output_type": "execute_result",
          "data": {
            "text/plain": [
              "<tf.Tensor: shape=(2, 2, 1), dtype=float64, numpy=\n",
              "array([[[0.],\n",
              "        [0.]],\n",
              "\n",
              "       [[0.],\n",
              "        [0.]]])>"
            ]
          },
          "metadata": {},
          "execution_count": 32
        }
      ]
    },
    {
      "cell_type": "code",
      "source": [
        "# Alternative to tf.newaxis\n",
        "tf.expand_dims(rank_2_tensor,axis=0)"
      ],
      "metadata": {
        "colab": {
          "base_uri": "https://localhost:8080/"
        },
        "id": "rTWT4oRXWx-E",
        "outputId": "9652cb1c-1d41-4bee-c486-cc3e2a49fa8d"
      },
      "execution_count": 33,
      "outputs": [
        {
          "output_type": "execute_result",
          "data": {
            "text/plain": [
              "<tf.Tensor: shape=(1, 2, 2), dtype=float64, numpy=\n",
              "array([[[0., 0.],\n",
              "        [0., 0.]]])>"
            ]
          },
          "metadata": {},
          "execution_count": 33
        }
      ]
    },
    {
      "cell_type": "code",
      "source": [
        "# Alternative to tf.newaxis\n",
        "tf.expand_dims(rank_2_tensor,axis=1)"
      ],
      "metadata": {
        "colab": {
          "base_uri": "https://localhost:8080/"
        },
        "id": "Xpyw_fctW6yF",
        "outputId": "33db8bd7-132e-4aa8-ece4-fac091e37ff4"
      },
      "execution_count": 34,
      "outputs": [
        {
          "output_type": "execute_result",
          "data": {
            "text/plain": [
              "<tf.Tensor: shape=(2, 1, 2), dtype=float64, numpy=\n",
              "array([[[0., 0.]],\n",
              "\n",
              "       [[0., 0.]]])>"
            ]
          },
          "metadata": {},
          "execution_count": 34
        }
      ]
    },
    {
      "cell_type": "markdown",
      "source": [
        "### Manipulation of Tensors ( Tensor Operations)\n",
        "** Basic Operation **\n",
        "\n",
        "=,-,*,/"
      ],
      "metadata": {
        "id": "NzIvWnvzXKAl"
      }
    },
    {
      "cell_type": "code",
      "source": [
        "tensor = tf.constant([[10,7],[3,4]])\n",
        "print(\"Add \",tensor + 10)\n",
        "print(\"Sub \",tensor - 10)\n",
        "print(\"Mul \",tensor * 10)\n",
        "print(\"Div \",tensor / 10)\n",
        "print(\"Non float div \",tensor // 10)"
      ],
      "metadata": {
        "colab": {
          "base_uri": "https://localhost:8080/"
        },
        "id": "fOIsXjcmXBzM",
        "outputId": "ed54d73d-b312-4139-ed8e-9d08de2527bb"
      },
      "execution_count": 35,
      "outputs": [
        {
          "output_type": "stream",
          "name": "stdout",
          "text": [
            "Add  tf.Tensor(\n",
            "[[20 17]\n",
            " [13 14]], shape=(2, 2), dtype=int32)\n",
            "Sub  tf.Tensor(\n",
            "[[ 0 -3]\n",
            " [-7 -6]], shape=(2, 2), dtype=int32)\n",
            "Mul  tf.Tensor(\n",
            "[[100  70]\n",
            " [ 30  40]], shape=(2, 2), dtype=int32)\n",
            "Div  tf.Tensor(\n",
            "[[1.  0.7]\n",
            " [0.3 0.4]], shape=(2, 2), dtype=float64)\n",
            "Non float div  tf.Tensor(\n",
            "[[1 0]\n",
            " [0 0]], shape=(2, 2), dtype=int32)\n"
          ]
        }
      ]
    },
    {
      "cell_type": "code",
      "source": [
        "# We can use Tensorflow built-in function\n",
        "tf.multiply(tensor,10)"
      ],
      "metadata": {
        "colab": {
          "base_uri": "https://localhost:8080/"
        },
        "id": "7YTT4xVDXq79",
        "outputId": "6f3b887d-9d7e-4c78-9d11-ecc6c9702f2a"
      },
      "execution_count": 36,
      "outputs": [
        {
          "output_type": "execute_result",
          "data": {
            "text/plain": [
              "<tf.Tensor: shape=(2, 2), dtype=int32, numpy=\n",
              "array([[100,  70],\n",
              "       [ 30,  40]], dtype=int32)>"
            ]
          },
          "metadata": {},
          "execution_count": 36
        }
      ]
    },
    {
      "cell_type": "markdown",
      "source": [
        "## Matrix Multiplication"
      ],
      "metadata": {
        "id": "WMTpW2uZOXjE"
      }
    },
    {
      "cell_type": "code",
      "source": [
        "mat1 = tf.constant([[[1,2,3],[4,5,6],[7,8,9]]])\n",
        "mat2 = tf.constant([[[1,2,3],[4,5,6],[7,8,9]]])\n",
        "\n",
        "mat_mul = tf.linalg.matmul(mat1,mat2)\n",
        "mat_mul,mat_mul.shape"
      ],
      "metadata": {
        "id": "QiEaS8xOYHy1",
        "colab": {
          "base_uri": "https://localhost:8080/"
        },
        "outputId": "bab1fcc2-5172-4efc-976b-39007e0d3b9f"
      },
      "execution_count": 37,
      "outputs": [
        {
          "output_type": "execute_result",
          "data": {
            "text/plain": [
              "(<tf.Tensor: shape=(1, 3, 3), dtype=int32, numpy=\n",
              " array([[[ 30,  36,  42],\n",
              "         [ 66,  81,  96],\n",
              "         [102, 126, 150]]], dtype=int32)>, TensorShape([1, 3, 3]))"
            ]
          },
          "metadata": {},
          "execution_count": 37
        }
      ]
    },
    {
      "cell_type": "code",
      "source": [
        "mat3 = tf.constant([[[1,2,3],[4,5,6],[7,8,9]]])\n",
        "print(mat3.shape)\n",
        "print(tf.reshape(mat3,shape=(3,1,3))) # in tensor reshape the total number of elements after reshape should remain same as that of the original"
      ],
      "metadata": {
        "colab": {
          "base_uri": "https://localhost:8080/"
        },
        "id": "U30-j6THP5h1",
        "outputId": "baa61b42-dffb-4bbe-c4ca-504b9500448d"
      },
      "execution_count": 38,
      "outputs": [
        {
          "output_type": "stream",
          "name": "stdout",
          "text": [
            "(1, 3, 3)\n",
            "tf.Tensor(\n",
            "[[[1 2 3]]\n",
            "\n",
            " [[4 5 6]]\n",
            "\n",
            " [[7 8 9]]], shape=(3, 1, 3), dtype=int32)\n"
          ]
        }
      ]
    },
    {
      "cell_type": "markdown",
      "source": [
        "# ** The dot product **\n",
        "Matrix multiplication can be performed using\n",
        "\n",
        "\n",
        "1.   tf.matmul()\n",
        "2.   tf.tensordot()\n",
        "\n"
      ],
      "metadata": {
        "id": "AwRBgZVlTuXW"
      }
    },
    {
      "cell_type": "code",
      "source": [
        "X = tf.constant([[1,2],[3,4],[5,6]])\n",
        "Y = tf.constant([[7,8],[9,10],[11,12]])\n"
      ],
      "metadata": {
        "id": "pOdkfNq6RQZd"
      },
      "execution_count": 39,
      "outputs": []
    },
    {
      "cell_type": "code",
      "source": [
        "\n",
        "# Matrix multiplication between X and Y with Y transpose\n",
        "tf.tensordot(tf.transpose(X),Y,axes=1)"
      ],
      "metadata": {
        "id": "I7Mb9SNWWPiH",
        "colab": {
          "base_uri": "https://localhost:8080/"
        },
        "outputId": "b90a96cb-b18c-4531-96ae-5e5f8ee263cd"
      },
      "execution_count": 40,
      "outputs": [
        {
          "output_type": "execute_result",
          "data": {
            "text/plain": [
              "<tf.Tensor: shape=(2, 2), dtype=int32, numpy=\n",
              "array([[ 89,  98],\n",
              "       [116, 128]], dtype=int32)>"
            ]
          },
          "metadata": {},
          "execution_count": 40
        }
      ]
    },
    {
      "cell_type": "code",
      "source": [
        "# Matrix multiplication between X and Y with Y reshaped\n",
        "tf.tensordot(X,tf.reshape(Y,shape=(2,3)),axes=1)"
      ],
      "metadata": {
        "colab": {
          "base_uri": "https://localhost:8080/"
        },
        "id": "4VsoVnzHUdLG",
        "outputId": "fbcb8694-1a29-4cdf-b036-ae760b3a34c9"
      },
      "execution_count": 41,
      "outputs": [
        {
          "output_type": "execute_result",
          "data": {
            "text/plain": [
              "<tf.Tensor: shape=(3, 3), dtype=int32, numpy=\n",
              "array([[ 27,  30,  33],\n",
              "       [ 61,  68,  75],\n",
              "       [ 95, 106, 117]], dtype=int32)>"
            ]
          },
          "metadata": {},
          "execution_count": 41
        }
      ]
    },
    {
      "cell_type": "code",
      "source": [
        "# Matrix multiplication between X and Y with Y transpose\n",
        "tf.tensordot(X,tf.transpose(Y),axes=1)"
      ],
      "metadata": {
        "colab": {
          "base_uri": "https://localhost:8080/"
        },
        "id": "f8R9Ov1RVEGm",
        "outputId": "1cc820f7-e544-44ad-9f76-fa3a9cd46758"
      },
      "execution_count": 42,
      "outputs": [
        {
          "output_type": "execute_result",
          "data": {
            "text/plain": [
              "<tf.Tensor: shape=(3, 3), dtype=int32, numpy=\n",
              "array([[ 23,  29,  35],\n",
              "       [ 53,  67,  81],\n",
              "       [ 83, 105, 127]], dtype=int32)>"
            ]
          },
          "metadata": {},
          "execution_count": 42
        }
      ]
    },
    {
      "cell_type": "code",
      "source": [
        "# Check value of Y , reshape Y and transpose Y\n",
        "print(\"Normal Y: \",Y)\n",
        "print(\"Reshape Y: \",tf.reshape(Y,shape=(2,3)))\n",
        "print(\"Transpose Y: \",tf.transpose(Y))"
      ],
      "metadata": {
        "colab": {
          "base_uri": "https://localhost:8080/"
        },
        "id": "66ddgOUmVZDW",
        "outputId": "6ae80d35-6e97-4498-8316-072e8957aac6"
      },
      "execution_count": 43,
      "outputs": [
        {
          "output_type": "stream",
          "name": "stdout",
          "text": [
            "Normal Y:  tf.Tensor(\n",
            "[[ 7  8]\n",
            " [ 9 10]\n",
            " [11 12]], shape=(3, 2), dtype=int32)\n",
            "Reshape Y:  tf.Tensor(\n",
            "[[ 7  8  9]\n",
            " [10 11 12]], shape=(2, 3), dtype=int32)\n",
            "Transpose Y:  tf.Tensor(\n",
            "[[ 7  9 11]\n",
            " [ 8 10 12]], shape=(2, 3), dtype=int32)\n"
          ]
        }
      ]
    },
    {
      "cell_type": "markdown",
      "source": [
        "### Changing Datatype of the tensor"
      ],
      "metadata": {
        "id": "fKsEmOqaWqqX"
      }
    },
    {
      "cell_type": "code",
      "source": [
        "val = tf.constant([1,2.2])\n",
        "val.dtype"
      ],
      "metadata": {
        "colab": {
          "base_uri": "https://localhost:8080/"
        },
        "id": "jAuFtPfeXo2P",
        "outputId": "ad52a04e-8ef1-4e2a-f746-f18e67a53652"
      },
      "execution_count": 44,
      "outputs": [
        {
          "output_type": "execute_result",
          "data": {
            "text/plain": [
              "tf.float32"
            ]
          },
          "metadata": {},
          "execution_count": 44
        }
      ]
    },
    {
      "cell_type": "code",
      "source": [
        "# Changing datatype of a tensor\n",
        "tf.cast(val,dtype = tf.int16)"
      ],
      "metadata": {
        "colab": {
          "base_uri": "https://localhost:8080/"
        },
        "id": "nfsp_E8HXtXv",
        "outputId": "6d9a0069-afe0-4901-c434-969a2df49ced"
      },
      "execution_count": 45,
      "outputs": [
        {
          "output_type": "execute_result",
          "data": {
            "text/plain": [
              "<tf.Tensor: shape=(2,), dtype=int16, numpy=array([1, 2], dtype=int16)>"
            ]
          },
          "metadata": {},
          "execution_count": 45
        }
      ]
    },
    {
      "cell_type": "markdown",
      "source": [
        "## Squeezing a tensor (removing all single dimensions i.e dimensions with value one)"
      ],
      "metadata": {
        "id": "DVU26dweZQJv"
      }
    },
    {
      "cell_type": "code",
      "source": [
        "tf.random.set_seed(42)\n",
        "tensor = tf.constant(tf.random.uniform(shape=[50]),shape=(1,1,1,1,50))\n",
        "tensor"
      ],
      "metadata": {
        "colab": {
          "base_uri": "https://localhost:8080/"
        },
        "id": "k0jBb73yebsT",
        "outputId": "33320e99-9194-4f24-9a5d-bc8218f9c634"
      },
      "execution_count": 46,
      "outputs": [
        {
          "output_type": "execute_result",
          "data": {
            "text/plain": [
              "<tf.Tensor: shape=(1, 1, 1, 1, 50), dtype=float32, numpy=\n",
              "array([[[[[0.6645621 , 0.44100678, 0.3528825 , 0.46448255, 0.03366041,\n",
              "           0.68467236, 0.74011743, 0.8724445 , 0.22632635, 0.22319686,\n",
              "           0.3103881 , 0.7223358 , 0.13318717, 0.5480639 , 0.5746088 ,\n",
              "           0.8996835 , 0.00946367, 0.5212307 , 0.6345445 , 0.1993283 ,\n",
              "           0.72942245, 0.54583454, 0.10756552, 0.6767061 , 0.6602763 ,\n",
              "           0.33695042, 0.60141766, 0.21062577, 0.8527372 , 0.44062173,\n",
              "           0.9485276 , 0.23752594, 0.81179297, 0.5263394 , 0.494308  ,\n",
              "           0.21612847, 0.8457197 , 0.8718841 , 0.3083862 , 0.6868038 ,\n",
              "           0.23764038, 0.7817228 , 0.9671384 , 0.06870162, 0.79873943,\n",
              "           0.66028714, 0.5871513 , 0.16461694, 0.7381023 , 0.32054043]]]]],\n",
              "      dtype=float32)>"
            ]
          },
          "metadata": {},
          "execution_count": 46
        }
      ]
    },
    {
      "cell_type": "code",
      "source": [
        "tensor_squeezed = tf.squeeze(tensor)\n",
        "tensor_squeezed,tensor_squeezed.shape,tensor_squeezed.ndim"
      ],
      "metadata": {
        "colab": {
          "base_uri": "https://localhost:8080/"
        },
        "id": "xevTpUGFetLz",
        "outputId": "e551ee79-6af4-4bd9-955a-dcc166550717"
      },
      "execution_count": 47,
      "outputs": [
        {
          "output_type": "execute_result",
          "data": {
            "text/plain": [
              "(<tf.Tensor: shape=(50,), dtype=float32, numpy=\n",
              " array([0.6645621 , 0.44100678, 0.3528825 , 0.46448255, 0.03366041,\n",
              "        0.68467236, 0.74011743, 0.8724445 , 0.22632635, 0.22319686,\n",
              "        0.3103881 , 0.7223358 , 0.13318717, 0.5480639 , 0.5746088 ,\n",
              "        0.8996835 , 0.00946367, 0.5212307 , 0.6345445 , 0.1993283 ,\n",
              "        0.72942245, 0.54583454, 0.10756552, 0.6767061 , 0.6602763 ,\n",
              "        0.33695042, 0.60141766, 0.21062577, 0.8527372 , 0.44062173,\n",
              "        0.9485276 , 0.23752594, 0.81179297, 0.5263394 , 0.494308  ,\n",
              "        0.21612847, 0.8457197 , 0.8718841 , 0.3083862 , 0.6868038 ,\n",
              "        0.23764038, 0.7817228 , 0.9671384 , 0.06870162, 0.79873943,\n",
              "        0.66028714, 0.5871513 , 0.16461694, 0.7381023 , 0.32054043],\n",
              "       dtype=float32)>, TensorShape([50]), 1)"
            ]
          },
          "metadata": {},
          "execution_count": 47
        }
      ]
    },
    {
      "cell_type": "markdown",
      "source": [
        "### Exercises"
      ],
      "metadata": {
        "id": "EgVutpddeRIX"
      }
    },
    {
      "cell_type": "markdown",
      "source": [
        "1. Creating scalar, vector, matrix and tensor using tf.constant()"
      ],
      "metadata": {
        "id": "2xBK_PuoeuPl"
      }
    },
    {
      "cell_type": "code",
      "source": [
        "sclr = tf.constant(10)\n",
        "\n",
        "vctr = tf.constant([1,2])\n",
        "\n",
        "mtrx = tf.constant([[1,2,3],[4,5,6],[7,8,9]])\n",
        "\n",
        "tnsr = tf.constant([[[1,2,3],[4,5,6],[7,8,9]],\n",
        "                   [[1,2,3],[4,5,6],[7,8,9]],\n",
        "                   [[1,2,3],[4,5,6],[7,8,9]]])\n",
        "\n",
        "sclr.ndim,vctr.ndim,mtrx.ndim,tnsr.ndim"
      ],
      "metadata": {
        "id": "nrcUC4cxe-y7",
        "colab": {
          "base_uri": "https://localhost:8080/"
        },
        "outputId": "caac1c96-fb53-409b-d755-149bad21a7e2"
      },
      "execution_count": 57,
      "outputs": [
        {
          "output_type": "execute_result",
          "data": {
            "text/plain": [
              "(0, 1, 2, 3)"
            ]
          },
          "metadata": {},
          "execution_count": 57
        }
      ]
    },
    {
      "cell_type": "markdown",
      "source": [
        "2. finding shape, rank and size of a tensor"
      ],
      "metadata": {
        "id": "0D-RsTh0gONt"
      }
    },
    {
      "cell_type": "code",
      "source": [
        "tf.shape(tnsr),tf.rank(tnsr),tf.size(tnsr)"
      ],
      "metadata": {
        "colab": {
          "base_uri": "https://localhost:8080/"
        },
        "id": "k0-3rBzPe_wG",
        "outputId": "fb41c119-b75f-49a0-a171-4b99b2af4128"
      },
      "execution_count": 60,
      "outputs": [
        {
          "output_type": "execute_result",
          "data": {
            "text/plain": [
              "(<tf.Tensor: shape=(3,), dtype=int32, numpy=array([3, 3, 3], dtype=int32)>,\n",
              " <tf.Tensor: shape=(), dtype=int32, numpy=3>,\n",
              " <tf.Tensor: shape=(), dtype=int32, numpy=27>)"
            ]
          },
          "metadata": {},
          "execution_count": 60
        }
      ]
    },
    {
      "cell_type": "markdown",
      "source": [
        "3. Create two tensors containing random values between 0 and 1 with shape [5, 300]."
      ],
      "metadata": {
        "id": "J2sbeWDsgpn7"
      }
    },
    {
      "cell_type": "code",
      "source": [
        "rndtnsr_1 = tf.random.uniform(\n",
        "(5,300),\n",
        "minval=0,\n",
        "maxval=1,\n",
        "dtype=tf.dtypes.float32,\n",
        "seed=1,\n",
        "name=None)\n",
        "# r1 = r1.normal(shape=(5,300))\n",
        "\n",
        "rndtnsr_2 = tf.random.uniform(\n",
        "(5,300),\n",
        "minval=0,\n",
        "maxval=1,\n",
        "dtype=tf.dtypes.float32,\n",
        "seed=2,\n",
        "name=None)\n",
        "# r1 = r1.normal(shape=(5,300))\n",
        "rndtnsr_1"
      ],
      "metadata": {
        "colab": {
          "base_uri": "https://localhost:8080/"
        },
        "id": "Zl8dKgz1hyUi",
        "outputId": "472c350a-2693-466a-b6ae-8613340e869d"
      },
      "execution_count": 81,
      "outputs": [
        {
          "output_type": "execute_result",
          "data": {
            "text/plain": [
              "<tf.Tensor: shape=(5, 300), dtype=float32, numpy=\n",
              "array([[0.39523065, 0.7226076 , 0.18639839, ..., 0.94377136, 0.16984892,\n",
              "        0.9312178 ],\n",
              "       [0.7145592 , 0.9608276 , 0.40824294, ..., 0.7099403 , 0.03017771,\n",
              "        0.23705626],\n",
              "       [0.13121116, 0.08444428, 0.43893087, ..., 0.35159528, 0.8571476 ,\n",
              "        0.4827422 ],\n",
              "       [0.5948739 , 0.6484932 , 0.25320458, ..., 0.54546165, 0.55536425,\n",
              "        0.4920857 ],\n",
              "       [0.44004762, 0.5941901 , 0.93089414, ..., 0.06279635, 0.5477712 ,\n",
              "        0.59064865]], dtype=float32)>"
            ]
          },
          "metadata": {},
          "execution_count": 81
        }
      ]
    },
    {
      "cell_type": "markdown",
      "source": [
        "4. Multiply the two tensors you created in 3 using matrix multiplication."
      ],
      "metadata": {
        "id": "9Ew98V3LkUFu"
      }
    },
    {
      "cell_type": "code",
      "source": [
        "tf.matmul(rndtnsr_1,tf.reshape(rndtnsr_2,shape=(300,5)))"
      ],
      "metadata": {
        "colab": {
          "base_uri": "https://localhost:8080/"
        },
        "id": "6S7N4ZZwh7IK",
        "outputId": "c77692f1-4b25-4291-aa9a-c90b1427a540"
      },
      "execution_count": 83,
      "outputs": [
        {
          "output_type": "execute_result",
          "data": {
            "text/plain": [
              "<tf.Tensor: shape=(5, 5), dtype=float32, numpy=\n",
              "array([[75.70348 , 72.355515, 74.78462 , 74.42514 , 80.81511 ],\n",
              "       [76.95586 , 79.99983 , 77.88314 , 77.867905, 84.056274],\n",
              "       [76.36487 , 76.741196, 78.56679 , 76.82883 , 80.81122 ],\n",
              "       [77.038956, 77.376785, 82.71488 , 81.48168 , 82.95416 ],\n",
              "       [80.57257 , 81.36941 , 80.1617  , 82.51197 , 84.59767 ]],\n",
              "      dtype=float32)>"
            ]
          },
          "metadata": {},
          "execution_count": 83
        }
      ]
    },
    {
      "cell_type": "markdown",
      "source": [
        "5. Multiply the two tensors you created in 3 using dot product."
      ],
      "metadata": {
        "id": "v-nwYU1Tk5vU"
      }
    },
    {
      "cell_type": "code",
      "source": [
        "tf.tensordot(rndtnsr_1,tf.reshape(rndtnsr_2,shape=(300,5)),axes=1)"
      ],
      "metadata": {
        "colab": {
          "base_uri": "https://localhost:8080/"
        },
        "id": "oV-d-z1Gkpzv",
        "outputId": "74a26906-1e0e-4771-975a-476012214342"
      },
      "execution_count": 87,
      "outputs": [
        {
          "output_type": "execute_result",
          "data": {
            "text/plain": [
              "<tf.Tensor: shape=(5, 5), dtype=float32, numpy=\n",
              "array([[75.70348 , 72.355515, 74.78462 , 74.42514 , 80.81511 ],\n",
              "       [76.95586 , 79.99983 , 77.88314 , 77.867905, 84.056274],\n",
              "       [76.36487 , 76.741196, 78.56679 , 76.82883 , 80.81122 ],\n",
              "       [77.038956, 77.376785, 82.71488 , 81.48168 , 82.95416 ],\n",
              "       [80.57257 , 81.36941 , 80.1617  , 82.51197 , 84.59767 ]],\n",
              "      dtype=float32)>"
            ]
          },
          "metadata": {},
          "execution_count": 87
        }
      ]
    },
    {
      "cell_type": "markdown",
      "source": [
        "6. Create a tensor with random values between 0 and 1 with shape [224, 224, 3]."
      ],
      "metadata": {
        "id": "BMkR31mulVhU"
      }
    },
    {
      "cell_type": "code",
      "source": [
        "rndtnsr_3 = tf.random.uniform(\n",
        "(224, 224, 3),\n",
        "minval=0,\n",
        "maxval=1,\n",
        "dtype=tf.dtypes.float32,\n",
        "seed=None,\n",
        "name=None)\n",
        "\n",
        "rndtnsr_3"
      ],
      "metadata": {
        "id": "MWMxi--slJXF"
      },
      "execution_count": null,
      "outputs": []
    },
    {
      "cell_type": "markdown",
      "source": [
        "7. Find the min and max values of the tensor you created in 6 along the first axis."
      ],
      "metadata": {
        "id": "HF5v8wVSlkgc"
      }
    },
    {
      "cell_type": "code",
      "source": [
        "tf.reduce_min(rndtnsr_3,axis=1),tf.reduce_max(rndtnsr_3,axis=1)"
      ],
      "metadata": {
        "id": "ekwfP0wclc40"
      },
      "execution_count": null,
      "outputs": []
    },
    {
      "cell_type": "markdown",
      "source": [
        "8. Created a tensor with random values of shape [1, 224, 224, 3] then squeeze it to change the shape to [224, 224, 3]."
      ],
      "metadata": {
        "id": "7EEyp_AsmOSr"
      }
    },
    {
      "cell_type": "code",
      "source": [
        "rndtnsr_4 = tf.random.Generator.from_seed(10)\n",
        "rndtnsr_4 = rndtnsr_4.normal(shape=(1, 224, 224, 3))\n",
        "rndtnsr_4_squeezed = tf.squeeze(rndtnsr_4)\n",
        "rndtnsr_4.shape,rndtnsr_4_squeezed.shape"
      ],
      "metadata": {
        "colab": {
          "base_uri": "https://localhost:8080/"
        },
        "id": "tDl4Fxl7l9Ls",
        "outputId": "96f54595-5327-46c0-a006-4b946df25db1"
      },
      "execution_count": 96,
      "outputs": [
        {
          "output_type": "execute_result",
          "data": {
            "text/plain": [
              "(TensorShape([1, 224, 224, 3]), TensorShape([224, 224, 3]))"
            ]
          },
          "metadata": {},
          "execution_count": 96
        }
      ]
    },
    {
      "cell_type": "markdown",
      "source": [
        "9. Create a tensor with shape [10] using your own choice of values, then find the index which has the maximum value."
      ],
      "metadata": {
        "id": "7Xbjw-vnnQJx"
      }
    },
    {
      "cell_type": "code",
      "source": [
        "import random\n",
        "# samples = random.sample(range(1, 100), 10)\n",
        "samples = [1,2,3,4,5,6,7,8,9,10]\n",
        "my_tensor = tf.constant(samples,shape=(10))\n",
        "my_tensor,tf.argmax(my_tensor)"
      ],
      "metadata": {
        "colab": {
          "base_uri": "https://localhost:8080/"
        },
        "id": "41ZCxa7LnIvC",
        "outputId": "56309ca8-2162-4466-b15f-d5d8e6b5cdc0"
      },
      "execution_count": 117,
      "outputs": [
        {
          "output_type": "execute_result",
          "data": {
            "text/plain": [
              "(<tf.Tensor: shape=(10,), dtype=int32, numpy=array([ 1,  2,  3,  4,  5,  6,  7,  8,  9, 10], dtype=int32)>,\n",
              " <tf.Tensor: shape=(), dtype=int64, numpy=9>)"
            ]
          },
          "metadata": {},
          "execution_count": 117
        }
      ]
    },
    {
      "cell_type": "markdown",
      "source": [
        "10. One-hot encode the tensor you created in 9."
      ],
      "metadata": {
        "id": "BJUizPj2pzal"
      }
    },
    {
      "cell_type": "code",
      "source": [
        "tf.one_hot(samples,depth=10,on_value='here',off_value=\"no\")"
      ],
      "metadata": {
        "colab": {
          "base_uri": "https://localhost:8080/"
        },
        "id": "pzux_6lSpGsv",
        "outputId": "9565eec7-2cb9-4db2-a2ff-caaad2a44b17"
      },
      "execution_count": 118,
      "outputs": [
        {
          "output_type": "execute_result",
          "data": {
            "text/plain": [
              "<tf.Tensor: shape=(10, 10), dtype=string, numpy=\n",
              "array([[b'no', b'here', b'no', b'no', b'no', b'no', b'no', b'no', b'no',\n",
              "        b'no'],\n",
              "       [b'no', b'no', b'here', b'no', b'no', b'no', b'no', b'no', b'no',\n",
              "        b'no'],\n",
              "       [b'no', b'no', b'no', b'here', b'no', b'no', b'no', b'no', b'no',\n",
              "        b'no'],\n",
              "       [b'no', b'no', b'no', b'no', b'here', b'no', b'no', b'no', b'no',\n",
              "        b'no'],\n",
              "       [b'no', b'no', b'no', b'no', b'no', b'here', b'no', b'no', b'no',\n",
              "        b'no'],\n",
              "       [b'no', b'no', b'no', b'no', b'no', b'no', b'here', b'no', b'no',\n",
              "        b'no'],\n",
              "       [b'no', b'no', b'no', b'no', b'no', b'no', b'no', b'here', b'no',\n",
              "        b'no'],\n",
              "       [b'no', b'no', b'no', b'no', b'no', b'no', b'no', b'no', b'here',\n",
              "        b'no'],\n",
              "       [b'no', b'no', b'no', b'no', b'no', b'no', b'no', b'no', b'no',\n",
              "        b'here'],\n",
              "       [b'no', b'no', b'no', b'no', b'no', b'no', b'no', b'no', b'no',\n",
              "        b'no']], dtype=object)>"
            ]
          },
          "metadata": {},
          "execution_count": 118
        }
      ]
    },
    {
      "cell_type": "code",
      "source": [],
      "metadata": {
        "colab": {
          "base_uri": "https://localhost:8080/"
        },
        "id": "vVXTX3rknatC",
        "outputId": "defa9d34-cae6-43c0-cf79-fe86c41122c1"
      },
      "execution_count": 106,
      "outputs": [
        {
          "output_type": "execute_result",
          "data": {
            "text/plain": [
              "[39, 49, 32, 18, 29, 25, 11]"
            ]
          },
          "metadata": {},
          "execution_count": 106
        }
      ]
    },
    {
      "cell_type": "code",
      "source": [],
      "metadata": {
        "id": "EvNkfsL4o1QA"
      },
      "execution_count": null,
      "outputs": []
    }
  ]
}